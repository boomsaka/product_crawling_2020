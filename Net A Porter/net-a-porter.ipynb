{
 "cells": [
  {
   "cell_type": "code",
   "execution_count": 99,
   "metadata": {},
   "outputs": [],
   "source": [
    "from bs4 import BeautifulSoup\n",
    "import urllib.request\n",
    "\n",
    "product_name = []\n",
    "description = []\n",
    "price = []\n",
    "image = []\n",
    "product_link = []\n",
    "pic = []\n",
    "\n",
    "for i in range(1,7):\n",
    "    \n",
    "    url = 'https://www.net-a-porter.com/fr-fr/shop/search/pyjama?pageNumber=' + str(i)\n",
    "\n",
    "# Use urllib2 module to open the url \n",
    "    ourUrl = urllib.request.urlopen(url)\n",
    "\n",
    "# create a BeautifulSoup object which represents the document as a nested data structure\n",
    "    soup = BeautifulSoup(ourUrl,'html.parser')\n",
    "    for i in soup.find_all('div',{'class':'ProductItem24 ProductList50__productItem'}):\n",
    "        product_name.append(i.find('span',{'data-testid':'pid-summary-designer'}).text)\n",
    "        description.append(i.find('span',{'data-testid':'pid-summary-description'}).text)\n",
    "        price.append(i.find('span',{'class':'PriceWithSchema9__value'}).span.get('content'))\n",
    "        \n",
    "        product_link.append(i.find('meta',{'itemprop':'url mainEntityOfPage'}).get('content'))\n",
    "    \n",
    "    for i in soup.find_all('div',{'class':'DoubleImage17 primaryImage'}):\n",
    "        index = str(i.div.div).find('srcset=\"https://')\n",
    "        end_index = str(i.div.div).find('.jpg ')\n",
    "        link = str(i.div.div)[index+8:end_index+4]\n",
    "        pic.append(link)"
   ]
  },
  {
   "cell_type": "code",
   "execution_count": 105,
   "metadata": {},
   "outputs": [],
   "source": [
    "import os\n",
    "import requests as req\n",
    "\n",
    "os.mkdir('photos')\n",
    "i = 1"
   ]
  },
  {
   "cell_type": "code",
   "execution_count": 106,
   "metadata": {},
   "outputs": [],
   "source": [
    "for index, link in enumerate(pic):\n",
    "    img_data = req.get(link).content\n",
    "    with open('photos/'+str(index+1)+'.jpg','wb+') as f:\n",
    "        f.write(img_data)\n",
    "    i+=1"
   ]
  },
  {
   "cell_type": "code",
   "execution_count": 115,
   "metadata": {},
   "outputs": [],
   "source": [
    "import pandas as pd\n",
    "\n",
    "column_names = [\"product name\", \"product description\", \"price\", 'product link', 'image link']\n",
    "df = pd.DataFrame(columns = column_names)\n",
    "\n",
    "df['product name'] = product_name\n",
    "df['product description'] = description\n",
    "df['price'] = price\n",
    "df['product link'] = product_link\n",
    "df['image link'] = pic\n",
    "df.to_csv('net_a_porter.csv')"
   ]
  },
  {
   "cell_type": "code",
   "execution_count": null,
   "metadata": {},
   "outputs": [],
   "source": [
    "import xlsxwriter\n",
    "\n",
    "\n",
    "workbook = xlsxwriter.Workbook('photos/images.xlsx')\n",
    "worksheet = workbook.add_worksheet()\n",
    "\n",
    "for i in range(1,len(pic)+1):\n",
    "    worksheet.insert_image('A'+str(i), 'photos/'+str(i)+'.jpg')\n",
    "workbook.close()"
   ]
  }
 ],
 "metadata": {
  "kernelspec": {
   "display_name": "Python 3",
   "language": "python",
   "name": "python3"
  },
  "language_info": {
   "codemirror_mode": {
    "name": "ipython",
    "version": 3
   },
   "file_extension": ".py",
   "mimetype": "text/x-python",
   "name": "python",
   "nbconvert_exporter": "python",
   "pygments_lexer": "ipython3",
   "version": "3.7.4"
  }
 },
 "nbformat": 4,
 "nbformat_minor": 4
}
