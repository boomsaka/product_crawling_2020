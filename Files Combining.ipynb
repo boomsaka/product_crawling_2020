{
 "cells": [
  {
   "cell_type": "code",
   "execution_count": 2,
   "metadata": {},
   "outputs": [
    {
     "name": "stdout",
     "output_type": "stream",
     "text": [
      "['sleeper-men-pj.csv', 'sleepwear-loungewear.csv', 'sleep-masks.csv', 'daywear.csv', 'camisoles-and-shorts.csv', 'robes.csv', 'womens-pyjamas.csv', 'thesleepshirt.csv', 'nightwear-loungewear.csv', 'phriya-women-pj.csv', 'pyjama-bottoms.csv', 'uniqlo-men-detail-included.csv', 'hm_sleepwear_details.csv', 'pantalons-pyjamas-femme.csv', 'pyjamas-femme.csv', 'mens-pyjamas.csv', 'pyjama-shirts.csv', 'pyjama-sets.csv', 'hm_nightwear_details.csv', 'Zara.csv', 't-shirts-pyjama-femme.csv', 'uniqlo-women-detail-included.csv', 'pyjama-femme.csv', 'sleeper-women-pj.csv', 'phriya-men-pj.csv', 'everydaysexy.csv', 'men.csv', 'slips-and-nightdresses.csv', 'lv.csv', 'sleep.csv', 'nuisettes-pyjamas-femme.csv', 'lingerie.csv', 'brooksbrothers.csv', 'nightwear.csv']\n"
     ]
    }
   ],
   "source": [
    "import os\n",
    "import glob\n",
    "import pandas as pd\n",
    "from langdetect import detect\n",
    "path = '/Users/lulinli/Desktop/Fordham_MSBA/Research/Yilu Zhou/Pajama_Files'\n",
    "extension = 'csv'\n",
    "os.chdir(path)\n",
    "files = glob.glob('*.{}'.format(extension))\n",
    "print(files)"
   ]
  },
  {
   "cell_type": "code",
   "execution_count": 14,
   "metadata": {},
   "outputs": [],
   "source": [
    "Brand = []\n",
    "Product = []\n",
    "Original_Price = []\n",
    "Sale_price = []\n",
    "Picture_link = []\n",
    "Product_link = []\n",
    "for file in files:\n",
    "    df = pd.read_csv(file)\n",
    "#     print(df.columns.values[:6])\n",
    "    for i, product in enumerate(df['product']):\n",
    "        if detect(product) == 'en':\n",
    "            Brand.append(df.iloc[:,0][i])\n",
    "            Product.append(df.iloc[:,1][i])\n",
    "            Original_Price.append(df.iloc[:,2][i])\n",
    "            Sale_price.append(df.iloc[:,3][i])\n",
    "            Picture_link.append(df.iloc[:,4][i])\n",
    "            Product_link.append(df.iloc[:,5][i])"
   ]
  },
  {
   "cell_type": "code",
   "execution_count": 19,
   "metadata": {},
   "outputs": [],
   "source": [
    "df = {'brand': Brand, 'product': Product, 'original price': Original_Price,\n",
    "     'sales price': Sale_price, 'image url': Picture_link, 'product url': Product_link}\n",
    "data = pd.DataFrame(data=df)\n",
    "data.to_csv('Pajama_Summary.csv', index = False)"
   ]
  },
  {
   "cell_type": "code",
   "execution_count": null,
   "metadata": {},
   "outputs": [],
   "source": []
  }
 ],
 "metadata": {
  "kernelspec": {
   "display_name": "Python 3",
   "language": "python",
   "name": "python3"
  },
  "language_info": {
   "codemirror_mode": {
    "name": "ipython",
    "version": 3
   },
   "file_extension": ".py",
   "mimetype": "text/x-python",
   "name": "python",
   "nbconvert_exporter": "python",
   "pygments_lexer": "ipython3",
   "version": "3.7.1"
  }
 },
 "nbformat": 4,
 "nbformat_minor": 2
}
