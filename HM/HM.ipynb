{
 "cells": [
  {
   "cell_type": "code",
   "execution_count": 98,
   "metadata": {
    "ExecuteTime": {
     "end_time": "2020-11-12T21:49:20.095575Z",
     "start_time": "2020-11-12T21:49:20.088574Z"
    }
   },
   "outputs": [],
   "source": [
    "import pandas as pd\n",
    "import requests\n",
    "import time\n",
    "from selenium import webdriver\n",
    "from bs4 import BeautifulSoup"
   ]
  },
  {
   "cell_type": "code",
   "execution_count": 99,
   "metadata": {
    "ExecuteTime": {
     "end_time": "2020-11-12T21:49:20.322669Z",
     "start_time": "2020-11-12T21:49:20.300718Z"
    }
   },
   "outputs": [],
   "source": [
    "night = pd.read_csv('nightwear-loungewear.csv')\n",
    "sleep = pd.read_csv('sleepwear-loungewear.csv')"
   ]
  },
  {
   "cell_type": "code",
   "execution_count": 100,
   "metadata": {
    "ExecuteTime": {
     "end_time": "2020-11-12T21:49:21.359545Z",
     "start_time": "2020-11-12T21:49:21.349580Z"
    }
   },
   "outputs": [],
   "source": [
    "description = []\n",
    "material = []\n",
    "color = []"
   ]
  },
  {
   "cell_type": "code",
   "execution_count": 101,
   "metadata": {
    "ExecuteTime": {
     "end_time": "2020-11-12T21:49:22.145869Z",
     "start_time": "2020-11-12T21:49:22.138914Z"
    }
   },
   "outputs": [],
   "source": [
    "def parse_page(soup):\n",
    "    #m = []\n",
    "    c = []\n",
    "    description.append(soup.find('p', {'class': 'pdp-description-text'}).text)\n",
    "    for i in soup.find_all('div', {'class': 'details-attributes-list-item'}):\n",
    "        if i.dt.text == 'Composition':\n",
    "            material.append([' '.join(j) for j in i.find_all('dd')])\n",
    "    color.append(', '.join(b['title'] for b in soup.find('ul', {'class': 'group'}).find_all('a')))\n",
    "    "
   ]
  },
  {
   "cell_type": "code",
   "execution_count": 102,
   "metadata": {
    "ExecuteTime": {
     "end_time": "2020-11-12T21:49:29.752797Z",
     "start_time": "2020-11-12T21:49:26.407306Z"
    }
   },
   "outputs": [],
   "source": [
    "driver = webdriver.Chrome()"
   ]
  },
  {
   "cell_type": "code",
   "execution_count": 103,
   "metadata": {
    "ExecuteTime": {
     "end_time": "2020-11-12T21:50:14.762986Z",
     "start_time": "2020-11-12T21:49:32.719287Z"
    }
   },
   "outputs": [
    {
     "name": "stdout",
     "output_type": "stream",
     "text": [
      "Pajamas in soft cotton fabric. Crew-neck T-shirt in jersey. Flannel pants with elasticized waistband and mock fly. ['Cotton 100%'] Dark blue/red plaid\n",
      "Pajama pants in airy, woven cotton fabric. Covered, elasticized waistband with drawstring, mock fly, and side pockets. ['Cotton 100%'] Dark blue/plaid, Dark blue/plaid\n",
      "Pajamas in soft cotton jersey. Shirt with printed design at front and back and long sleeves. Pants with elasticized drawstring waistband, side pockets, and ribbed hems. ['Cotton 100%'] Black/Looney Tunes\n",
      "Soft, padded slippers in velour, with one Cookie-Monster-shaped slipper and one Elmo-shaped slipper. Jersey lining, jersey insoles, and soft soles with non-slip protection. ['Lining: Polyester 100%', 'Upper: Polyester 100%', 'Sole: Polyester 100%'] Red/Sesame Street\n",
      "Bathrobe in a soft, waffle-weave cotton blend with two front pockets and a tie belt at waist. ['Polyester 50%, Cotton 50%'] Dusky blue\n",
      "Slippers in faux leather with a moccasin seam at front. Soft faux shearling lining and fluted soles. Sole thickness approx. 1/2 in. ['Lining and insole: Polyester 100%', 'Upper: Polyester 100%', 'Sole: Ethylene Vinyl Acetate 100%'] Brown, Black\n",
      "Pajamas in soft cotton jersey. Shirt with printed design at front and back and long sleeves. Pants with elasticized drawstring waistband, side pockets, and ribbed hems. ['Cotton 100%'] Black/Garfield\n",
      "Bathrobe in soft fleece with a shawl collar and front pockets. Removable tie belt at waist. ['Polyester 100%'] Black\n",
      "Slippers in cotton twill with soft faux fur insoles and fluted soles. ['Sole: Ethylene Vinyl Acetate 100%', 'Lining and insole: Polyester 100%', 'Upper: Cotton 100%'] Black\n",
      "Slippers in faux leather with a moccasin seam at front. Soft faux shearling lining and fluted soles. Sole thickness approx. 1/2 in. ['Sole: Ethylene Vinyl Acetate 100%', 'Lining and insole: Polyester 100%', 'Upper: Polyester 100%'] Brown, Black\n",
      "Soft slippers in faux suede with a moccasin seam at front. Faux shearling lining and insoles. Fluted soles. ['Lining and insole: Polyester 100%', 'Upper: Polyester 100%', 'Sole: Ethylene Vinyl Acetate 100%'] Dark gray\n"
     ]
    }
   ],
   "source": [
    "for i,j in enumerate(night['product url'].values):\n",
    "    driver.get(j)\n",
    "    time.sleep(1)\n",
    "    driver.find_element_by_xpath('//*[@id=\"main-content\"]/div[2]/div[2]/div[2]/menu/ul/li[1]/button').click()\n",
    "    ps = driver.page_source\n",
    "    soup_ = BeautifulSoup(ps)\n",
    "    parse_page(soup_)\n",
    "    print(description[i], material[i], color[i])"
   ]
  },
  {
   "cell_type": "code",
   "execution_count": 97,
   "metadata": {
    "ExecuteTime": {
     "end_time": "2020-11-12T21:48:50.549908Z",
     "start_time": "2020-11-12T21:48:50.543926Z"
    }
   },
   "outputs": [
    {
     "data": {
      "text/plain": [
       "array(['https://www2.hm.com/en_us/productpage.0818694002.html',\n",
       "       'https://www2.hm.com/en_us/productpage.0947060001.html',\n",
       "       'https://www2.hm.com/en_us/productpage.0674057005.html',\n",
       "       'https://www2.hm.com/en_us/productpage.0902487001.html',\n",
       "       'https://www2.hm.com/en_us/productpage.0346942031.html',\n",
       "       'https://www2.hm.com/en_us/productpage.0906777003.html',\n",
       "       'https://www2.hm.com/en_us/productpage.0674057006.html',\n",
       "       'https://www2.hm.com/en_us/productpage.0575238007.html',\n",
       "       'https://www2.hm.com/en_us/productpage.0906776001.html',\n",
       "       'https://www2.hm.com/en_us/productpage.0906777001.html',\n",
       "       'https://www2.hm.com/en_us/productpage.0944282002.html'],\n",
       "      dtype=object)"
      ]
     },
     "execution_count": 97,
     "metadata": {},
     "output_type": "execute_result"
    }
   ],
   "source": [
    "night['product url'].values"
   ]
  },
  {
   "cell_type": "code",
   "execution_count": 108,
   "metadata": {
    "ExecuteTime": {
     "end_time": "2020-11-12T21:55:05.122790Z",
     "start_time": "2020-11-12T21:55:05.115816Z"
    }
   },
   "outputs": [
    {
     "data": {
      "text/plain": [
       "(60, 60, 60)"
      ]
     },
     "execution_count": 108,
     "metadata": {},
     "output_type": "execute_result"
    }
   ],
   "source": [
    "len(description), len(material), len(color)"
   ]
  },
  {
   "cell_type": "code",
   "execution_count": 104,
   "metadata": {
    "ExecuteTime": {
     "end_time": "2020-11-12T21:50:14.793902Z",
     "start_time": "2020-11-12T21:50:14.769968Z"
    }
   },
   "outputs": [],
   "source": [
    "night['description'] = description\n",
    "night['material'] = material\n",
    "night['color'] = color"
   ]
  },
  {
   "cell_type": "code",
   "execution_count": 105,
   "metadata": {
    "ExecuteTime": {
     "end_time": "2020-11-12T21:51:03.627899Z",
     "start_time": "2020-11-12T21:51:03.607951Z"
    }
   },
   "outputs": [
    {
     "data": {
      "text/html": [
       "<div>\n",
       "<style scoped>\n",
       "    .dataframe tbody tr th:only-of-type {\n",
       "        vertical-align: middle;\n",
       "    }\n",
       "\n",
       "    .dataframe tbody tr th {\n",
       "        vertical-align: top;\n",
       "    }\n",
       "\n",
       "    .dataframe thead th {\n",
       "        text-align: right;\n",
       "    }\n",
       "</style>\n",
       "<table border=\"1\" class=\"dataframe\">\n",
       "  <thead>\n",
       "    <tr style=\"text-align: right;\">\n",
       "      <th></th>\n",
       "      <th>brand</th>\n",
       "      <th>product</th>\n",
       "      <th>original price</th>\n",
       "      <th>current price</th>\n",
       "      <th>image url</th>\n",
       "      <th>product url</th>\n",
       "    </tr>\n",
       "  </thead>\n",
       "  <tbody>\n",
       "    <tr>\n",
       "      <th>0</th>\n",
       "      <td>h&amp;m</td>\n",
       "      <td>Faux Fur Slippers</td>\n",
       "      <td>$17.99</td>\n",
       "      <td>$17.99</td>\n",
       "      <td>https://lp2.hm.com/hmgoepprod?set=source[/f0/5...</td>\n",
       "      <td>https://www2.hm.com/en_us/productpage.09296400...</td>\n",
       "    </tr>\n",
       "    <tr>\n",
       "      <th>1</th>\n",
       "      <td>h&amp;m</td>\n",
       "      <td>Faux Shearling Bathrobe</td>\n",
       "      <td>$29.99</td>\n",
       "      <td>$29.99</td>\n",
       "      <td>https://lp2.hm.com/hmgoepprod?set=source[/e4/8...</td>\n",
       "      <td>https://www2.hm.com/en_us/productpage.07703450...</td>\n",
       "    </tr>\n",
       "    <tr>\n",
       "      <th>2</th>\n",
       "      <td>h&amp;m</td>\n",
       "      <td>Pajama Sweatshirt and Leggings</td>\n",
       "      <td>$24.99</td>\n",
       "      <td>$24.99</td>\n",
       "      <td>https://lp2.hm.com/hmgoepprod?set=source[/00/8...</td>\n",
       "      <td>https://www2.hm.com/en_us/productpage.07698140...</td>\n",
       "    </tr>\n",
       "    <tr>\n",
       "      <th>3</th>\n",
       "      <td>h&amp;m</td>\n",
       "      <td>Faux Fur Slippers</td>\n",
       "      <td>$17.99</td>\n",
       "      <td>$17.99</td>\n",
       "      <td>https://lp2.hm.com/hmgoepprod?set=source[/4b/b...</td>\n",
       "      <td>https://www2.hm.com/en_us/productpage.09296400...</td>\n",
       "    </tr>\n",
       "    <tr>\n",
       "      <th>4</th>\n",
       "      <td>h&amp;m</td>\n",
       "      <td>Warm-lined Slippers</td>\n",
       "      <td>$17.99</td>\n",
       "      <td>$17.99</td>\n",
       "      <td>https://lp2.hm.com/hmgoepprod?set=source[/ce/9...</td>\n",
       "      <td>https://www2.hm.com/en_us/productpage.07612170...</td>\n",
       "    </tr>\n",
       "  </tbody>\n",
       "</table>\n",
       "</div>"
      ],
      "text/plain": [
       "  brand                         product original price current price  \\\n",
       "0   h&m               Faux Fur Slippers         $17.99        $17.99   \n",
       "1   h&m         Faux Shearling Bathrobe         $29.99        $29.99   \n",
       "2   h&m  Pajama Sweatshirt and Leggings         $24.99        $24.99   \n",
       "3   h&m               Faux Fur Slippers         $17.99        $17.99   \n",
       "4   h&m             Warm-lined Slippers         $17.99        $17.99   \n",
       "\n",
       "                                           image url  \\\n",
       "0  https://lp2.hm.com/hmgoepprod?set=source[/f0/5...   \n",
       "1  https://lp2.hm.com/hmgoepprod?set=source[/e4/8...   \n",
       "2  https://lp2.hm.com/hmgoepprod?set=source[/00/8...   \n",
       "3  https://lp2.hm.com/hmgoepprod?set=source[/4b/b...   \n",
       "4  https://lp2.hm.com/hmgoepprod?set=source[/ce/9...   \n",
       "\n",
       "                                         product url  \n",
       "0  https://www2.hm.com/en_us/productpage.09296400...  \n",
       "1  https://www2.hm.com/en_us/productpage.07703450...  \n",
       "2  https://www2.hm.com/en_us/productpage.07698140...  \n",
       "3  https://www2.hm.com/en_us/productpage.09296400...  \n",
       "4  https://www2.hm.com/en_us/productpage.07612170...  "
      ]
     },
     "execution_count": 105,
     "metadata": {},
     "output_type": "execute_result"
    }
   ],
   "source": [
    "sleep.head()"
   ]
  },
  {
   "cell_type": "code",
   "execution_count": 106,
   "metadata": {
    "ExecuteTime": {
     "end_time": "2020-11-12T21:54:34.619223Z",
     "start_time": "2020-11-12T21:51:34.913049Z"
    }
   },
   "outputs": [],
   "source": [
    "for i in sleep['product url'].values:\n",
    "    driver.get(i)\n",
    "    time.sleep(1)\n",
    "    driver.find_element_by_xpath('//*[@id=\"main-content\"]/div[2]/div[2]/div[2]/menu/ul/li[1]/button').click()\n",
    "    ps = driver.page_source\n",
    "    soup_ = BeautifulSoup(ps)\n",
    "    parse_page(soup_)"
   ]
  },
  {
   "cell_type": "code",
   "execution_count": 47,
   "metadata": {
    "ExecuteTime": {
     "end_time": "2020-11-12T21:12:25.576965Z",
     "start_time": "2020-11-12T21:12:25.563003Z"
    }
   },
   "outputs": [
    {
     "data": {
      "text/plain": [
       "[['Upper: Polyester 100%',\n",
       "  'Sole: Ethylene Vinyl Acetate 100%',\n",
       "  'Lining and insole: Polyester 100%'],\n",
       " ['Polyester 100%'],\n",
       " ['Polyester 65%, Cotton 35%', 'Lower section: Cotton 95%, Elastane 5%'],\n",
       " ['Sole: Ethylene Vinyl Acetate 100%',\n",
       "  'Lining and insole: Polyester 100%',\n",
       "  'Upper: Polyester 100%'],\n",
       " ['Sole: Thermoplastic rubber 100%',\n",
       "  'Upper: Polyester 100%',\n",
       "  'Lining: Polyester 100%'],\n",
       " ['Cotton 65%, Polyester 28%, Viscose 7%'],\n",
       " ['Polyester 65%, Cotton 35%'],\n",
       " ['Pocket lining: Cotton 99%, Viscose 1%',\n",
       "  'Cotton 79%, Polyester 20%, Elastane 1%'],\n",
       " ['Viscose 29%, Polyester 29%, Polyamide 20%, Acrylic 19%, Wool 3%'],\n",
       " ['Cotton 60%, Polyester 40%'],\n",
       " ['Polyester 100%'],\n",
       " ['Cotton 60%, Polyester 40%'],\n",
       " ['Viscose 54%, Polyester 44%, Elastane 2%'],\n",
       " ['Polyester 100%'],\n",
       " ['Polyester 100%'],\n",
       " ['Viscose 54%, Polyester 44%, Elastane 2%'],\n",
       " ['Polyester 100%'],\n",
       " ['Cotton 98%, Viscose 2%'],\n",
       " ['Polyester 100%'],\n",
       " ['Lace: Polyamide 88%, Elastane 12%', 'Shell: Polyester 100%'],\n",
       " ['Cotton 93%, Polyester 7%'],\n",
       " ['Viscose 100%'],\n",
       " ['Cotton 98%, Viscose 2%'],\n",
       " ['Polyester 100%', 'Lace: Polyamide 90%, Elastane 10%'],\n",
       " ['Cotton 100%'],\n",
       " ['Cotton 100%'],\n",
       " ['Cotton 60%, Polyester 40%'],\n",
       " ['Cotton 100%'],\n",
       " ['Polyester 68%, Cotton 32%'],\n",
       " ['Polyester 50%, Cotton 50%'],\n",
       " ['Polyester 100%'],\n",
       " ['Cotton 60%, Polyester 40%'],\n",
       " ['Cotton 60%, Polyester 40%'],\n",
       " ['Polyester 76%, Acrylic 21%, Wool 3%'],\n",
       " ['Cotton 100%'],\n",
       " ['Lining and insole: Thermoplastic Polyurethane 100%',\n",
       "  'Upper: Thermoplastic Polyurethane 100%',\n",
       "  'Sole: Ethylene Vinyl Acetate 100%'],\n",
       " ['Viscose 77%, Polyamide 19%, Elastane 4%'],\n",
       " ['Cotton 100%'],\n",
       " ['Top: Cotton 60%, Polyester 40%', 'Lower section: Cotton 95%, Elastane 5%'],\n",
       " ['Cotton 60%, Polyester 40%'],\n",
       " ['Cotton 100%'],\n",
       " ['Polyester 100%'],\n",
       " ['Upper: Polyester 100%',\n",
       "  'Lining and insole: Polyester 100%',\n",
       "  'Sole: Thermoplastic rubber 100%'],\n",
       " ['Cotton 98%, Elastane 2%'],\n",
       " ['Shell: Cotton 60%, Polyester 40%', 'Shell: Cotton 98%, Viscose 2%'],\n",
       " ['Polyester 100%'],\n",
       " ['Cotton 95%, Elastane 5%'],\n",
       " ['Cotton 98%, Viscose 2%'],\n",
       " ['Lining and insole: Polyester 100%',\n",
       "  'Sole: Thermoplastic rubber 100%',\n",
       "  'Upper: Polyester 100%']]"
      ]
     },
     "execution_count": 47,
     "metadata": {},
     "output_type": "execute_result"
    }
   ],
   "source": [
    "material"
   ]
  },
  {
   "cell_type": "code",
   "execution_count": 109,
   "metadata": {
    "ExecuteTime": {
     "end_time": "2020-11-12T21:55:28.371708Z",
     "start_time": "2020-11-12T21:55:28.364727Z"
    }
   },
   "outputs": [],
   "source": [
    "sleep['description'] = description[11:]\n",
    "sleep['material'] = material[11:]\n",
    "sleep['color'] = color[11:]"
   ]
  },
  {
   "cell_type": "code",
   "execution_count": 110,
   "metadata": {
    "ExecuteTime": {
     "end_time": "2020-11-12T21:55:33.671864Z",
     "start_time": "2020-11-12T21:55:33.644119Z"
    }
   },
   "outputs": [
    {
     "data": {
      "text/html": [
       "<div>\n",
       "<style scoped>\n",
       "    .dataframe tbody tr th:only-of-type {\n",
       "        vertical-align: middle;\n",
       "    }\n",
       "\n",
       "    .dataframe tbody tr th {\n",
       "        vertical-align: top;\n",
       "    }\n",
       "\n",
       "    .dataframe thead th {\n",
       "        text-align: right;\n",
       "    }\n",
       "</style>\n",
       "<table border=\"1\" class=\"dataframe\">\n",
       "  <thead>\n",
       "    <tr style=\"text-align: right;\">\n",
       "      <th></th>\n",
       "      <th>brand</th>\n",
       "      <th>product</th>\n",
       "      <th>original price</th>\n",
       "      <th>current price</th>\n",
       "      <th>image url</th>\n",
       "      <th>product url</th>\n",
       "      <th>description</th>\n",
       "      <th>material</th>\n",
       "      <th>color</th>\n",
       "    </tr>\n",
       "  </thead>\n",
       "  <tbody>\n",
       "    <tr>\n",
       "      <th>0</th>\n",
       "      <td>h&amp;m</td>\n",
       "      <td>Faux Fur Slippers</td>\n",
       "      <td>$17.99</td>\n",
       "      <td>$17.99</td>\n",
       "      <td>https://lp2.hm.com/hmgoepprod?set=source[/f0/5...</td>\n",
       "      <td>https://www2.hm.com/en_us/productpage.09296400...</td>\n",
       "      <td>Slippers in soft faux fur made from recycled p...</td>\n",
       "      <td>[Upper: Polyester 100%, Sole: Ethylene Vinyl A...</td>\n",
       "      <td>Beige, Light gray</td>\n",
       "    </tr>\n",
       "    <tr>\n",
       "      <th>1</th>\n",
       "      <td>h&amp;m</td>\n",
       "      <td>Faux Shearling Bathrobe</td>\n",
       "      <td>$29.99</td>\n",
       "      <td>$29.99</td>\n",
       "      <td>https://lp2.hm.com/hmgoepprod?set=source[/e4/8...</td>\n",
       "      <td>https://www2.hm.com/en_us/productpage.07703450...</td>\n",
       "      <td>Knee-length bathrobe in soft faux shearling wi...</td>\n",
       "      <td>[Polyester 100%]</td>\n",
       "      <td>Gray</td>\n",
       "    </tr>\n",
       "    <tr>\n",
       "      <th>2</th>\n",
       "      <td>h&amp;m</td>\n",
       "      <td>Pajama Sweatshirt and Leggings</td>\n",
       "      <td>$24.99</td>\n",
       "      <td>$24.99</td>\n",
       "      <td>https://lp2.hm.com/hmgoepprod?set=source[/00/8...</td>\n",
       "      <td>https://www2.hm.com/en_us/productpage.07698140...</td>\n",
       "      <td>Pajamas with an oversized sweatshirt and jerse...</td>\n",
       "      <td>[Polyester 65%, Cotton 35%, Lower section: Cot...</td>\n",
       "      <td>Beige/dotted</td>\n",
       "    </tr>\n",
       "    <tr>\n",
       "      <th>3</th>\n",
       "      <td>h&amp;m</td>\n",
       "      <td>Faux Fur Slippers</td>\n",
       "      <td>$17.99</td>\n",
       "      <td>$17.99</td>\n",
       "      <td>https://lp2.hm.com/hmgoepprod?set=source[/4b/b...</td>\n",
       "      <td>https://www2.hm.com/en_us/productpage.09296400...</td>\n",
       "      <td>Slippers in soft faux fur made from recycled p...</td>\n",
       "      <td>[Sole: Ethylene Vinyl Acetate 100%, Lining and...</td>\n",
       "      <td>Beige, Light gray</td>\n",
       "    </tr>\n",
       "    <tr>\n",
       "      <th>4</th>\n",
       "      <td>h&amp;m</td>\n",
       "      <td>Warm-lined Slippers</td>\n",
       "      <td>$17.99</td>\n",
       "      <td>$17.99</td>\n",
       "      <td>https://lp2.hm.com/hmgoepprod?set=source[/ce/9...</td>\n",
       "      <td>https://www2.hm.com/en_us/productpage.07612170...</td>\n",
       "      <td>Slippers in soft fabric with faux fur lining a...</td>\n",
       "      <td>[Sole: Thermoplastic rubber 100%, Upper: Polye...</td>\n",
       "      <td>Black</td>\n",
       "    </tr>\n",
       "  </tbody>\n",
       "</table>\n",
       "</div>"
      ],
      "text/plain": [
       "  brand                         product original price current price  \\\n",
       "0   h&m               Faux Fur Slippers         $17.99        $17.99   \n",
       "1   h&m         Faux Shearling Bathrobe         $29.99        $29.99   \n",
       "2   h&m  Pajama Sweatshirt and Leggings         $24.99        $24.99   \n",
       "3   h&m               Faux Fur Slippers         $17.99        $17.99   \n",
       "4   h&m             Warm-lined Slippers         $17.99        $17.99   \n",
       "\n",
       "                                           image url  \\\n",
       "0  https://lp2.hm.com/hmgoepprod?set=source[/f0/5...   \n",
       "1  https://lp2.hm.com/hmgoepprod?set=source[/e4/8...   \n",
       "2  https://lp2.hm.com/hmgoepprod?set=source[/00/8...   \n",
       "3  https://lp2.hm.com/hmgoepprod?set=source[/4b/b...   \n",
       "4  https://lp2.hm.com/hmgoepprod?set=source[/ce/9...   \n",
       "\n",
       "                                         product url  \\\n",
       "0  https://www2.hm.com/en_us/productpage.09296400...   \n",
       "1  https://www2.hm.com/en_us/productpage.07703450...   \n",
       "2  https://www2.hm.com/en_us/productpage.07698140...   \n",
       "3  https://www2.hm.com/en_us/productpage.09296400...   \n",
       "4  https://www2.hm.com/en_us/productpage.07612170...   \n",
       "\n",
       "                                         description  \\\n",
       "0  Slippers in soft faux fur made from recycled p...   \n",
       "1  Knee-length bathrobe in soft faux shearling wi...   \n",
       "2  Pajamas with an oversized sweatshirt and jerse...   \n",
       "3  Slippers in soft faux fur made from recycled p...   \n",
       "4  Slippers in soft fabric with faux fur lining a...   \n",
       "\n",
       "                                            material              color  \n",
       "0  [Upper: Polyester 100%, Sole: Ethylene Vinyl A...  Beige, Light gray  \n",
       "1                                   [Polyester 100%]               Gray  \n",
       "2  [Polyester 65%, Cotton 35%, Lower section: Cot...       Beige/dotted  \n",
       "3  [Sole: Ethylene Vinyl Acetate 100%, Lining and...  Beige, Light gray  \n",
       "4  [Sole: Thermoplastic rubber 100%, Upper: Polye...              Black  "
      ]
     },
     "execution_count": 110,
     "metadata": {},
     "output_type": "execute_result"
    }
   ],
   "source": [
    "sleep.head()"
   ]
  },
  {
   "cell_type": "code",
   "execution_count": 111,
   "metadata": {
    "ExecuteTime": {
     "end_time": "2020-11-12T21:56:30.526923Z",
     "start_time": "2020-11-12T21:56:30.501985Z"
    }
   },
   "outputs": [],
   "source": [
    "night.to_csv('hm_nightwear_details.csv', index=False)\n",
    "sleep.to_csv('hm_sleepwear_details.csv', index=False)"
   ]
  },
  {
   "cell_type": "markdown",
   "metadata": {},
   "source": [
    "# Debug"
   ]
  },
  {
   "cell_type": "code",
   "execution_count": 72,
   "metadata": {
    "ExecuteTime": {
     "end_time": "2020-11-12T21:38:59.627979Z",
     "start_time": "2020-11-12T21:38:57.130104Z"
    }
   },
   "outputs": [],
   "source": [
    "driver.get('https://www2.hm.com/en_us/productpage.0906777001.html')\n",
    "time.sleep(1)\n",
    "ps = driver.page_source\n",
    "soup = BeautifulSoup(ps)"
   ]
  },
  {
   "cell_type": "code",
   "execution_count": 79,
   "metadata": {
    "ExecuteTime": {
     "end_time": "2020-11-12T21:40:42.788249Z",
     "start_time": "2020-11-12T21:40:42.767232Z"
    }
   },
   "outputs": [
    {
     "data": {
      "text/plain": [
       "'Brown'"
      ]
     },
     "execution_count": 79,
     "metadata": {},
     "output_type": "execute_result"
    }
   ],
   "source": [
    "soup.find('ul', {'class': 'group'}).find_all('a')[0]['title']"
   ]
  },
  {
   "cell_type": "code",
   "execution_count": 112,
   "metadata": {
    "ExecuteTime": {
     "end_time": "2020-11-12T21:59:21.691881Z",
     "start_time": "2020-11-12T21:59:21.292411Z"
    }
   },
   "outputs": [],
   "source": [
    "driver.close()"
   ]
  },
  {
   "cell_type": "code",
   "execution_count": null,
   "metadata": {},
   "outputs": [],
   "source": []
  }
 ],
 "metadata": {
  "kernelspec": {
   "display_name": "Python 3",
   "language": "python",
   "name": "python3"
  },
  "language_info": {
   "codemirror_mode": {
    "name": "ipython",
    "version": 3
   },
   "file_extension": ".py",
   "mimetype": "text/x-python",
   "name": "python",
   "nbconvert_exporter": "python",
   "pygments_lexer": "ipython3",
   "version": "3.6.10"
  },
  "toc": {
   "base_numbering": 1,
   "nav_menu": {},
   "number_sections": true,
   "sideBar": true,
   "skip_h1_title": false,
   "title_cell": "Table of Contents",
   "title_sidebar": "Contents",
   "toc_cell": false,
   "toc_position": {},
   "toc_section_display": true,
   "toc_window_display": false
  }
 },
 "nbformat": 4,
 "nbformat_minor": 4
}
