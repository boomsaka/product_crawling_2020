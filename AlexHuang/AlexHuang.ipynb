{
 "cells": [
  {
   "cell_type": "code",
   "execution_count": 1,
   "metadata": {
    "ExecuteTime": {
     "end_time": "2020-11-07T01:14:48.304394Z",
     "start_time": "2020-11-07T01:14:47.804469Z"
    }
   },
   "outputs": [],
   "source": [
    "import requests\n",
    "from bs4 import BeautifulSoup"
   ]
  },
  {
   "cell_type": "code",
   "execution_count": 4,
   "metadata": {
    "ExecuteTime": {
     "end_time": "2020-11-01T21:16:42.812100Z",
     "start_time": "2020-11-01T21:16:42.131791Z"
    }
   },
   "outputs": [],
   "source": [
    "# Assess AlexHuang\n",
    "html = requests.get('https://www.alexachung.com/row/nightwear').text\n",
    "soup = BeautifulSoup(html)"
   ]
  },
  {
   "cell_type": "code",
   "execution_count": 11,
   "metadata": {
    "ExecuteTime": {
     "end_time": "2020-11-01T21:20:47.552875Z",
     "start_time": "2020-11-01T21:20:47.525947Z"
    }
   },
   "outputs": [],
   "source": [
    "# test\n",
    "info = soup.find_all('div', {'class': \"product-item-info\"})"
   ]
  },
  {
   "cell_type": "code",
   "execution_count": 33,
   "metadata": {
    "ExecuteTime": {
     "end_time": "2020-11-01T21:38:51.500797Z",
     "start_time": "2020-11-01T21:38:51.486832Z"
    }
   },
   "outputs": [],
   "source": [
    "# Main \n",
    "brand = []\n",
    "item = []\n",
    "price = []\n",
    "img_url = []\n",
    "product_url = []\n",
    "\n",
    "for i in info:\n",
    "    brand.append('AlexHuang')\n",
    "    item.append(i.find('a', {'class': 'product-item-link'}).get_text())\n",
    "    price.append(i.find('span', {'class', 'price'}).get_text())\n",
    "    img_url.append(i.find('img').get('src'))\n",
    "    product_url.append(i.find('a', {'class': 'product-item-link'}).get('href'))\n",
    "    \n"
   ]
  },
  {
   "cell_type": "code",
   "execution_count": 32,
   "metadata": {
    "ExecuteTime": {
     "end_time": "2020-11-01T21:37:42.317977Z",
     "start_time": "2020-11-01T21:37:42.298029Z"
    }
   },
   "outputs": [
    {
     "data": {
      "text/plain": [
       "'https://www.alexachung.com/row/catalog/product/view/id/14480/s/d19jumpsuitc8036/category/96/'"
      ]
     },
     "execution_count": 32,
     "metadata": {},
     "output_type": "execute_result"
    }
   ],
   "source": [
    "# test 2\n",
    "info[1].find('a', {'class': 'product-item-link'}).get('href')"
   ]
  },
  {
   "cell_type": "code",
   "execution_count": 37,
   "metadata": {
    "ExecuteTime": {
     "end_time": "2020-11-01T21:40:16.294072Z",
     "start_time": "2020-11-01T21:40:16.266146Z"
    }
   },
   "outputs": [],
   "source": [
    "# Output crawling information to csv\n",
    "import pandas as pd\n",
    "\n",
    "pd.DataFrame(list(zip(brand, item, price, img_url, product_url)), \n",
    "             columns = ['brand', 'item', 'price', 'image_url', 'product_url']).\\\n",
    "            to_csv('AlexHuang.csv', index=False)"
   ]
  },
  {
   "cell_type": "code",
   "execution_count": 2,
   "metadata": {
    "ExecuteTime": {
     "end_time": "2020-11-07T01:15:10.527402Z",
     "start_time": "2020-11-07T01:15:09.661227Z"
    }
   },
   "outputs": [],
   "source": [
    "import pandas as pd\n",
    "df = pd.read_csv('AlexHuang.csv')"
   ]
  },
  {
   "cell_type": "code",
   "execution_count": 3,
   "metadata": {
    "ExecuteTime": {
     "end_time": "2020-11-07T01:15:11.334390Z",
     "start_time": "2020-11-07T01:15:11.298489Z"
    }
   },
   "outputs": [
    {
     "data": {
      "text/html": [
       "<div>\n",
       "<style scoped>\n",
       "    .dataframe tbody tr th:only-of-type {\n",
       "        vertical-align: middle;\n",
       "    }\n",
       "\n",
       "    .dataframe tbody tr th {\n",
       "        vertical-align: top;\n",
       "    }\n",
       "\n",
       "    .dataframe thead th {\n",
       "        text-align: right;\n",
       "    }\n",
       "</style>\n",
       "<table border=\"1\" class=\"dataframe\">\n",
       "  <thead>\n",
       "    <tr style=\"text-align: right;\">\n",
       "      <th></th>\n",
       "      <th>brand</th>\n",
       "      <th>item</th>\n",
       "      <th>price</th>\n",
       "      <th>image_url</th>\n",
       "      <th>product_url</th>\n",
       "    </tr>\n",
       "  </thead>\n",
       "  <tbody>\n",
       "    <tr>\n",
       "      <th>0</th>\n",
       "      <td>AlexHuang</td>\n",
       "      <td>Jean Bloomer Pajama Set</td>\n",
       "      <td>US$360.00</td>\n",
       "      <td>https://www.alexachung.com/media/catalog/produ...</td>\n",
       "      <td>https://www.alexachung.com/row/catalog/product...</td>\n",
       "    </tr>\n",
       "    <tr>\n",
       "      <th>1</th>\n",
       "      <td>AlexHuang</td>\n",
       "      <td>Neely Playsuit</td>\n",
       "      <td>US$346.00</td>\n",
       "      <td>https://www.alexachung.com/media/catalog/produ...</td>\n",
       "      <td>https://www.alexachung.com/row/catalog/product...</td>\n",
       "    </tr>\n",
       "    <tr>\n",
       "      <th>2</th>\n",
       "      <td>AlexHuang</td>\n",
       "      <td>Farrah Playsuit</td>\n",
       "      <td>US$317.00</td>\n",
       "      <td>https://www.alexachung.com/media/catalog/produ...</td>\n",
       "      <td>https://www.alexachung.com/row/catalog/product...</td>\n",
       "    </tr>\n",
       "    <tr>\n",
       "      <th>3</th>\n",
       "      <td>AlexHuang</td>\n",
       "      <td>Goldie Bloomer Pajama Set</td>\n",
       "      <td>US$330.00</td>\n",
       "      <td>https://www.alexachung.com/media/catalog/produ...</td>\n",
       "      <td>https://www.alexachung.com/row/catalog/product...</td>\n",
       "    </tr>\n",
       "    <tr>\n",
       "      <th>4</th>\n",
       "      <td>AlexHuang</td>\n",
       "      <td>Doris Boxer Pajama Set</td>\n",
       "      <td>US$265.00</td>\n",
       "      <td>https://www.alexachung.com/media/catalog/produ...</td>\n",
       "      <td>https://www.alexachung.com/row/catalog/product...</td>\n",
       "    </tr>\n",
       "  </tbody>\n",
       "</table>\n",
       "</div>"
      ],
      "text/plain": [
       "       brand                       item      price  \\\n",
       "0  AlexHuang    Jean Bloomer Pajama Set  US$360.00   \n",
       "1  AlexHuang             Neely Playsuit  US$346.00   \n",
       "2  AlexHuang            Farrah Playsuit  US$317.00   \n",
       "3  AlexHuang  Goldie Bloomer Pajama Set  US$330.00   \n",
       "4  AlexHuang     Doris Boxer Pajama Set  US$265.00   \n",
       "\n",
       "                                           image_url  \\\n",
       "0  https://www.alexachung.com/media/catalog/produ...   \n",
       "1  https://www.alexachung.com/media/catalog/produ...   \n",
       "2  https://www.alexachung.com/media/catalog/produ...   \n",
       "3  https://www.alexachung.com/media/catalog/produ...   \n",
       "4  https://www.alexachung.com/media/catalog/produ...   \n",
       "\n",
       "                                         product_url  \n",
       "0  https://www.alexachung.com/row/catalog/product...  \n",
       "1  https://www.alexachung.com/row/catalog/product...  \n",
       "2  https://www.alexachung.com/row/catalog/product...  \n",
       "3  https://www.alexachung.com/row/catalog/product...  \n",
       "4  https://www.alexachung.com/row/catalog/product...  "
      ]
     },
     "execution_count": 3,
     "metadata": {},
     "output_type": "execute_result"
    }
   ],
   "source": [
    "df.image_url"
   ]
  },
  {
   "cell_type": "code",
   "execution_count": 6,
   "metadata": {
    "ExecuteTime": {
     "end_time": "2020-11-07T01:21:22.373772Z",
     "start_time": "2020-11-07T01:21:19.203237Z"
    }
   },
   "outputs": [],
   "source": [
    "counter = 1\n",
    "\n",
    "for i in df.image_url:\n",
    "    with open(\"AlexHuang\" + str(counter) + \".jpg\", \"wb\") as f:\n",
    "        r = requests.get(i)\n",
    "        f.write(r.content)\n",
    "    counter += 1"
   ]
  },
  {
   "cell_type": "code",
   "execution_count": null,
   "metadata": {
    "ExecuteTime": {
     "end_time": "2020-11-07T01:19:52.692137Z",
     "start_time": "2020-11-07T01:19:52.672193Z"
    }
   },
   "outputs": [],
   "source": []
  },
  {
   "cell_type": "code",
   "execution_count": null,
   "metadata": {},
   "outputs": [],
   "source": []
  },
  {
   "cell_type": "code",
   "execution_count": null,
   "metadata": {},
   "outputs": [],
   "source": []
  },
  {
   "cell_type": "code",
   "execution_count": null,
   "metadata": {},
   "outputs": [],
   "source": []
  }
 ],
 "metadata": {
  "kernelspec": {
   "display_name": "Python 3",
   "language": "python",
   "name": "python3"
  },
  "language_info": {
   "codemirror_mode": {
    "name": "ipython",
    "version": 3
   },
   "file_extension": ".py",
   "mimetype": "text/x-python",
   "name": "python",
   "nbconvert_exporter": "python",
   "pygments_lexer": "ipython3",
   "version": "3.6.10"
  },
  "toc": {
   "base_numbering": 1,
   "nav_menu": {},
   "number_sections": true,
   "sideBar": true,
   "skip_h1_title": false,
   "title_cell": "Table of Contents",
   "title_sidebar": "Contents",
   "toc_cell": false,
   "toc_position": {},
   "toc_section_display": true,
   "toc_window_display": false
  }
 },
 "nbformat": 4,
 "nbformat_minor": 4
}
