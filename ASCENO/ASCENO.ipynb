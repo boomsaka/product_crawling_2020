{
 "cells": [
  {
   "cell_type": "code",
   "execution_count": 1,
   "metadata": {
    "ExecuteTime": {
     "end_time": "2020-11-07T01:23:45.397790Z",
     "start_time": "2020-11-07T01:23:44.086014Z"
    }
   },
   "outputs": [],
   "source": [
    "import requests\n",
    "import pandas as pd\n",
    "from bs4 import BeautifulSoup"
   ]
  },
  {
   "cell_type": "code",
   "execution_count": 132,
   "metadata": {
    "ExecuteTime": {
     "end_time": "2020-11-07T03:32:17.709910Z",
     "start_time": "2020-11-07T03:32:17.701951Z"
    }
   },
   "outputs": [],
   "source": [
    "# parsing function \n",
    "def parse_one_page(html):\n",
    "    global counter\n",
    "    soup = BeautifulSoup(html)\n",
    "    info = len(soup.find_all('h2', {'class': 'ProductItem__Title Heading'}))\n",
    "    base_url = 'www.asceno.com'\n",
    "    for i in range(info):\n",
    "        brand.append('ASCENO')\n",
    "        item.append(soup.find_all('h2', {'class': 'ProductItem__Title Heading'})[i].a.get_text())\n",
    "        price.append(soup.find_all('span', {'class': 'ProductItem__Price Price'})[i].get_text())\n",
    "        img_url.append(soup.find_all('div', {'class': 'ProductItem'})[i].\\\n",
    "                        find('img', {'class': 'ProductItem__Image ProductItem__Image--alternate'}).get('src'))\n",
    "            \n",
    "        product_url.append(base_url + \\\n",
    "                           soup.find_all('h2', {'class': 'ProductItem__Title Heading'})[i].a.get('href'))\n",
    "        #with open(\"ASCENO\" + str(counter) + \".jpg\", \"wb\") as f:\n",
    "        #    r = requests.get(soup.find_all('div', {'class': 'AspectRatio AspectRatio--tall'})[i].img.get('srcset'))\n",
    "        #    f.write(r.content)\n",
    "        #counter += 1\n",
    "    del soup"
   ]
  },
  {
   "cell_type": "code",
   "execution_count": 47,
   "metadata": {
    "ExecuteTime": {
     "end_time": "2020-11-07T02:40:42.078293Z",
     "start_time": "2020-11-07T02:40:42.071311Z"
    }
   },
   "outputs": [],
   "source": [
    "from selenium import webdriver\n",
    "import time"
   ]
  },
  {
   "cell_type": "code",
   "execution_count": 49,
   "metadata": {
    "ExecuteTime": {
     "end_time": "2020-11-07T02:41:33.469150Z",
     "start_time": "2020-11-07T02:41:30.102738Z"
    }
   },
   "outputs": [],
   "source": [
    "driver = webdriver.Chrome()"
   ]
  },
  {
   "cell_type": "code",
   "execution_count": 133,
   "metadata": {
    "ExecuteTime": {
     "end_time": "2020-11-07T03:32:20.481050Z",
     "start_time": "2020-11-07T03:32:20.475087Z"
    }
   },
   "outputs": [],
   "source": [
    "brand = []\n",
    "item = []\n",
    "price = []\n",
    "img_url = []\n",
    "product_url = []"
   ]
  },
  {
   "cell_type": "code",
   "execution_count": 134,
   "metadata": {
    "ExecuteTime": {
     "end_time": "2020-11-07T03:32:24.290875Z",
     "start_time": "2020-11-07T03:32:22.567759Z"
    }
   },
   "outputs": [],
   "source": [
    "# Get and parse page 1\n",
    "driver.get('https://www.asceno.com/collections/sleepwear?')\n",
    "time.sleep(3)\n",
    "page1 = driver.page_source\n",
    "parse_one_page(page1)"
   ]
  },
  {
   "cell_type": "code",
   "execution_count": 137,
   "metadata": {
    "ExecuteTime": {
     "end_time": "2020-11-07T03:33:30.724817Z",
     "start_time": "2020-11-07T03:33:24.811881Z"
    }
   },
   "outputs": [],
   "source": [
    "# Get and parse page 2\n",
    "driver.get('https://www.asceno.com/collections/sleepwear?page=2')\n",
    "time.sleep(3)\n",
    "page2 = driver.page_source\n",
    "parse_one_page(page2)"
   ]
  },
  {
   "cell_type": "code",
   "execution_count": 138,
   "metadata": {
    "ExecuteTime": {
     "end_time": "2020-11-07T03:33:38.754485Z",
     "start_time": "2020-11-07T03:33:32.751324Z"
    }
   },
   "outputs": [],
   "source": [
    "# Get and parse page 3\n",
    "driver.get('https://www.asceno.com/collections/sleepwear?page=3')\n",
    "time.sleep(3)\n",
    "page3 = driver.page_source\n",
    "parse_one_page(page3)"
   ]
  },
  {
   "cell_type": "code",
   "execution_count": 51,
   "metadata": {
    "ExecuteTime": {
     "end_time": "2020-11-07T02:41:53.884112Z",
     "start_time": "2020-11-07T02:41:53.815107Z"
    }
   },
   "outputs": [],
   "source": [
    "#soup = BeautifulSoup(page_source)"
   ]
  },
  {
   "cell_type": "code",
   "execution_count": 127,
   "metadata": {
    "ExecuteTime": {
     "end_time": "2020-11-07T03:31:22.865328Z",
     "start_time": "2020-11-07T03:31:22.828358Z"
    }
   },
   "outputs": [
    {
     "data": {
      "text/plain": [
       "'//cdn.shopify.com/s/files/1/1327/6929/products/EH_Asceno_DustyRose2_146-2_600x.jpg?v=1604596599'"
      ]
     },
     "execution_count": 127,
     "metadata": {},
     "output_type": "execute_result"
    }
   ],
   "source": [
    "# test \n",
    "soup.find_all('div', {'class': 'ProductItem'})[16].\\\n",
    "    find('img', {'class': 'ProductItem__Image ProductItem__Image--alternate'}).get('src')\n",
    "    "
   ]
  },
  {
   "cell_type": "code",
   "execution_count": 141,
   "metadata": {
    "ExecuteTime": {
     "end_time": "2020-11-07T03:37:24.599852Z",
     "start_time": "2020-11-07T03:37:24.582875Z"
    }
   },
   "outputs": [],
   "source": [
    "url_list = []\n",
    "for i in img_url:\n",
    "    url_list.append('https:' + i)"
   ]
  },
  {
   "cell_type": "code",
   "execution_count": 142,
   "metadata": {
    "ExecuteTime": {
     "end_time": "2020-11-07T03:37:55.480086Z",
     "start_time": "2020-11-07T03:37:34.615303Z"
    }
   },
   "outputs": [],
   "source": [
    "# Output all the images on the websites\n",
    "counter = 1\n",
    "\n",
    "for i in url_list:\n",
    "    with open(\"ASCENO\" + str(counter) + \".jpg\", \"wb\") as f:\n",
    "        r = requests.get(i)\n",
    "        f.write(r.content)\n",
    "    counter += 1"
   ]
  },
  {
   "cell_type": "code",
   "execution_count": null,
   "metadata": {},
   "outputs": [],
   "source": []
  },
  {
   "cell_type": "code",
   "execution_count": null,
   "metadata": {},
   "outputs": [],
   "source": []
  },
  {
   "cell_type": "code",
   "execution_count": null,
   "metadata": {},
   "outputs": [],
   "source": []
  }
 ],
 "metadata": {
  "kernelspec": {
   "display_name": "Python 3",
   "language": "python",
   "name": "python3"
  },
  "language_info": {
   "codemirror_mode": {
    "name": "ipython",
    "version": 3
   },
   "file_extension": ".py",
   "mimetype": "text/x-python",
   "name": "python",
   "nbconvert_exporter": "python",
   "pygments_lexer": "ipython3",
   "version": "3.6.10"
  },
  "toc": {
   "base_numbering": 1,
   "nav_menu": {},
   "number_sections": true,
   "sideBar": true,
   "skip_h1_title": false,
   "title_cell": "Table of Contents",
   "title_sidebar": "Contents",
   "toc_cell": false,
   "toc_position": {},
   "toc_section_display": true,
   "toc_window_display": false
  }
 },
 "nbformat": 4,
 "nbformat_minor": 4
}
