{
 "cells": [
  {
   "cell_type": "code",
   "execution_count": 1,
   "metadata": {
    "ExecuteTime": {
     "end_time": "2020-11-08T17:59:24.816432Z",
     "start_time": "2020-11-08T17:59:23.462484Z"
    }
   },
   "outputs": [],
   "source": [
    "import requests\n",
    "import pandas as pd\n",
    "from bs4 import BeautifulSoup"
   ]
  },
  {
   "cell_type": "code",
   "execution_count": 2,
   "metadata": {
    "ExecuteTime": {
     "end_time": "2020-11-08T18:00:06.160128Z",
     "start_time": "2020-11-08T18:00:05.746336Z"
    }
   },
   "outputs": [],
   "source": [
    "r = requests.get('https://www.jcrew.com/c/womens_category/pajamas_intimates').text\n",
    "soup = BeautifulSoup(r)"
   ]
  },
  {
   "cell_type": "code",
   "execution_count": 74,
   "metadata": {
    "ExecuteTime": {
     "end_time": "2020-11-08T19:10:53.010948Z",
     "start_time": "2020-11-08T19:10:52.994964Z"
    }
   },
   "outputs": [],
   "source": [
    "def parse_one_page(html):\n",
    "    base_url = 'https://www.jcrew.com'\n",
    "    soup = BeautifulSoup(html)\n",
    "    info = len(soup.find_all('h3', {'class': 'tile__detail tile__detail--name'}))\n",
    "    for i in range(info):\n",
    "        brand.append('J.Crew')\n",
    "        item.append(soup.find_all('h3', {'class': 'tile__detail tile__detail--name'})[i].text)\n",
    "        price.append(soup.find_all('div', {'class': 'tile__detail tile__detail--price'})[i].text)\n",
    "        \n",
    "        img_url.append(soup.find_all('div', {'class': 'product-tile__image-wrapper'})[i].img['src'])\n",
    "        product_url.append(base_url + \\\n",
    "                      soup.find_all('div', {'class': 'c-product__photos'})[i].a['href'])\n",
    "    del soup"
   ]
  },
  {
   "cell_type": "code",
   "execution_count": 17,
   "metadata": {
    "ExecuteTime": {
     "end_time": "2020-11-08T18:31:38.287793Z",
     "start_time": "2020-11-08T18:31:38.151883Z"
    }
   },
   "outputs": [],
   "source": [
    "from selenium import webdriver\n",
    "import time"
   ]
  },
  {
   "cell_type": "code",
   "execution_count": 18,
   "metadata": {
    "ExecuteTime": {
     "end_time": "2020-11-08T18:31:41.755488Z",
     "start_time": "2020-11-08T18:31:38.321808Z"
    }
   },
   "outputs": [],
   "source": [
    "driver = webdriver.Chrome()"
   ]
  },
  {
   "cell_type": "code",
   "execution_count": 60,
   "metadata": {
    "ExecuteTime": {
     "end_time": "2020-11-08T18:54:56.775984Z",
     "start_time": "2020-11-08T18:54:56.770002Z"
    }
   },
   "outputs": [],
   "source": [
    "brand = []\n",
    "item = []\n",
    "price = []\n",
    "img_url = []\n",
    "product_url = []"
   ]
  },
  {
   "cell_type": "code",
   "execution_count": 61,
   "metadata": {
    "ExecuteTime": {
     "end_time": "2020-11-08T18:55:22.356058Z",
     "start_time": "2020-11-08T18:55:00.871199Z"
    }
   },
   "outputs": [],
   "source": [
    "driver.get('https://www.jcrew.com/c/womens_category/pajamas_intimates')\n",
    "time.sleep(2)\n",
    "for i in range(20):\n",
    "        js='window.scrollBy(0,500)'\n",
    "        driver.execute_script(js)\n",
    "        time.sleep(0.5)\n",
    "page_source = driver.page_source\n",
    "parse_one_page(page_source)"
   ]
  },
  {
   "cell_type": "code",
   "execution_count": 37,
   "metadata": {
    "ExecuteTime": {
     "end_time": "2020-11-08T18:49:02.945609Z",
     "start_time": "2020-11-08T18:49:02.893788Z"
    }
   },
   "outputs": [
    {
     "data": {
      "text/plain": [
       "'$98'"
      ]
     },
     "execution_count": 37,
     "metadata": {},
     "output_type": "execute_result"
    }
   ],
   "source": [
    "soup.find_all('div', {'class': 'tile__detail tile__detail--price'})[0].text"
   ]
  },
  {
   "cell_type": "code",
   "execution_count": 55,
   "metadata": {
    "ExecuteTime": {
     "end_time": "2020-11-08T18:52:25.916398Z",
     "start_time": "2020-11-08T18:52:25.866532Z"
    }
   },
   "outputs": [
    {
     "data": {
      "text/plain": [
       "<div class=\"product-tile__image-wrapper\"><div class=\"lazyload-placeholder\" style=\"height:0\"></div></div>"
      ]
     },
     "execution_count": 55,
     "metadata": {},
     "output_type": "execute_result"
    }
   ],
   "source": [
    "soup.find_all('div', {'class': 'product-tile__image-wrapper'})[25]"
   ]
  },
  {
   "cell_type": "code",
   "execution_count": 65,
   "metadata": {
    "ExecuteTime": {
     "end_time": "2020-11-08T18:58:08.535670Z",
     "start_time": "2020-11-08T18:58:08.510410Z"
    }
   },
   "outputs": [],
   "source": [
    "jcrew_women = pd.DataFrame(list(zip(brand, item, price, img_url, product_url)),\n",
    "            columns=['brand', 'item', 'price', 'img_url', 'product_url'])\n",
    "jcrew_women.to_csv('JCrew_women.csv', index=False)"
   ]
  },
  {
   "cell_type": "code",
   "execution_count": 67,
   "metadata": {
    "ExecuteTime": {
     "end_time": "2020-11-08T19:04:56.491383Z",
     "start_time": "2020-11-08T19:04:50.234122Z"
    }
   },
   "outputs": [],
   "source": [
    "counter = 1\n",
    "\n",
    "for i in img_url:\n",
    "    with open(\"JCrew_Women\" + str(counter) + \".jpg\", \"wb\") as f:\n",
    "        r = requests.get(i)\n",
    "        f.write(r.content)\n",
    "    counter += 1"
   ]
  },
  {
   "cell_type": "code",
   "execution_count": 78,
   "metadata": {
    "ExecuteTime": {
     "end_time": "2020-11-08T19:13:47.205170Z",
     "start_time": "2020-11-08T19:13:21.700045Z"
    }
   },
   "outputs": [],
   "source": [
    "brand = []\n",
    "item = []\n",
    "price = []\n",
    "img_url = []\n",
    "product_url = []\n",
    "\n",
    "driver.get('https://www.jcrew.com/c/mens_category/pajamas_and_loungewear')\n",
    "time.sleep(2)\n",
    "for i in range(25):\n",
    "    js='window.scrollBy(0,500)'\n",
    "    driver.execute_script(js)\n",
    "    time.sleep(0.5)\n",
    "page_source = driver.page_source\n",
    "driver.execute_script('window.scrollTo(0, 0)')\n",
    "parse_one_page(page_source)\n"
   ]
  },
  {
   "cell_type": "code",
   "execution_count": 79,
   "metadata": {
    "ExecuteTime": {
     "end_time": "2020-11-08T19:13:49.907794Z",
     "start_time": "2020-11-08T19:13:49.888825Z"
    }
   },
   "outputs": [],
   "source": [
    "jcrew_men = pd.DataFrame(list(zip(brand, item, price, img_url, product_url)),\n",
    "            columns=['brand', 'item', 'price', 'img_url', 'product_url'])\n",
    "jcrew_men.to_csv('JCrew_men.csv', index=False)"
   ]
  },
  {
   "cell_type": "code",
   "execution_count": 81,
   "metadata": {
    "ExecuteTime": {
     "end_time": "2020-11-08T19:14:17.661302Z",
     "start_time": "2020-11-08T19:14:10.917854Z"
    }
   },
   "outputs": [],
   "source": [
    "counter = 1\n",
    "\n",
    "for i in img_url:\n",
    "    with open(\"JCrew_Men\" + str(counter) + \".jpg\", \"wb\") as f:\n",
    "        r = requests.get(i)\n",
    "        f.write(r.content)\n",
    "    counter += 1"
   ]
  },
  {
   "cell_type": "code",
   "execution_count": 80,
   "metadata": {
    "ExecuteTime": {
     "end_time": "2020-11-08T19:14:07.301093Z",
     "start_time": "2020-11-08T19:14:07.286133Z"
    }
   },
   "outputs": [],
   "source": [
    "#imgsoup.find_all('h3', {'class': 'tile__detail tile__detail--name'}))"
   ]
  },
  {
   "cell_type": "code",
   "execution_count": null,
   "metadata": {},
   "outputs": [],
   "source": []
  }
 ],
 "metadata": {
  "kernelspec": {
   "display_name": "Python 3",
   "language": "python",
   "name": "python3"
  },
  "language_info": {
   "codemirror_mode": {
    "name": "ipython",
    "version": 3
   },
   "file_extension": ".py",
   "mimetype": "text/x-python",
   "name": "python",
   "nbconvert_exporter": "python",
   "pygments_lexer": "ipython3",
   "version": "3.6.10"
  },
  "toc": {
   "base_numbering": 1,
   "nav_menu": {},
   "number_sections": true,
   "sideBar": true,
   "skip_h1_title": false,
   "title_cell": "Table of Contents",
   "title_sidebar": "Contents",
   "toc_cell": false,
   "toc_position": {},
   "toc_section_display": true,
   "toc_window_display": false
  }
 },
 "nbformat": 4,
 "nbformat_minor": 4
}
