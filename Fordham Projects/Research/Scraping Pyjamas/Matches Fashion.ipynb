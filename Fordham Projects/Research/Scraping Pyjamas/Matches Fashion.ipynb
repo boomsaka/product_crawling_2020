{
 "cells": [
  {
   "cell_type": "code",
   "execution_count": 8,
   "metadata": {
    "ExecuteTime": {
     "end_time": "2020-11-10T00:23:38.224810Z",
     "start_time": "2020-11-10T00:23:38.205818Z"
    }
   },
   "outputs": [],
   "source": [
    "import requests\n",
    "import pandas as pd\n",
    "from bs4 import BeautifulSoup\n",
    "from selenium import webdriver\n",
    "import time"
   ]
  },
  {
   "cell_type": "code",
   "execution_count": 9,
   "metadata": {
    "ExecuteTime": {
     "end_time": "2020-11-10T00:24:55.866327Z",
     "start_time": "2020-11-10T00:24:52.516148Z"
    }
   },
   "outputs": [],
   "source": [
    "driver = webdriver.Chrome()"
   ]
  },
  {
   "cell_type": "code",
   "execution_count": 47,
   "metadata": {
    "ExecuteTime": {
     "end_time": "2020-11-10T01:11:48.730890Z",
     "start_time": "2020-11-10T01:11:43.177404Z"
    }
   },
   "outputs": [],
   "source": [
    "url = 'https://www.matchesfashion.com/us/womens/shop/clothing/loungewear'\n",
    "driver.get(url)\n",
    "time.sleep(2)\n",
    "\n",
    "page_source = driver.page_source\n",
    "soup = BeautifulSoup(page_source)"
   ]
  },
  {
   "cell_type": "code",
   "execution_count": 16,
   "metadata": {
    "ExecuteTime": {
     "end_time": "2020-11-10T00:26:56.104749Z",
     "start_time": "2020-11-10T00:26:56.034859Z"
    }
   },
   "outputs": [
    {
     "data": {
      "text/plain": [
       "'//assetsprx.matchesfashion.com/img/product/1299922_1_large.jpg'"
      ]
     },
     "execution_count": 16,
     "metadata": {},
     "output_type": "execute_result"
    }
   ],
   "source": [
    "# test case 1\n",
    "soup.find_all('div', {'class': 'lister__item__image productView'})[0].img['src']"
   ]
  },
  {
   "cell_type": "code",
   "execution_count": 17,
   "metadata": {
    "ExecuteTime": {
     "end_time": "2020-11-10T00:29:40.754212Z",
     "start_time": "2020-11-10T00:29:40.669436Z"
    }
   },
   "outputs": [
    {
     "data": {
      "text/plain": [
       "'Extreme Cashmere'"
      ]
     },
     "execution_count": 17,
     "metadata": {},
     "output_type": "execute_result"
    }
   ],
   "source": [
    "# test case 2\n",
    "soup.find_all('div', {'class': 'lister__item__title'})[0].text"
   ]
  },
  {
   "cell_type": "code",
   "execution_count": 18,
   "metadata": {
    "ExecuteTime": {
     "end_time": "2020-11-10T00:30:00.294704Z",
     "start_time": "2020-11-10T00:30:00.161038Z"
    }
   },
   "outputs": [
    {
     "data": {
      "text/plain": [
       "'No.101 Jules stretch-cashmere sweater'"
      ]
     },
     "execution_count": 18,
     "metadata": {},
     "output_type": "execute_result"
    }
   ],
   "source": [
    "# test case 3\n",
    "soup.find_all('div', {'class': 'lister__item__details'})[0].text"
   ]
  },
  {
   "cell_type": "code",
   "execution_count": 23,
   "metadata": {
    "ExecuteTime": {
     "end_time": "2020-11-10T00:39:52.815211Z",
     "start_time": "2020-11-10T00:39:52.803244Z"
    }
   },
   "outputs": [],
   "source": [
    "# main\n",
    "def parse_one_page(html):\n",
    "    base_url = 'https://www.matchesfashion.com'\n",
    "    soup = BeautifulSoup(html)\n",
    "    info = len(soup.find_all('div', {'class': 'lister__item__title'}))\n",
    "    for i in range(info):\n",
    "        brand.append(soup.find_all('div', {'class': 'lister__item__title'})[i].text)\n",
    "        item.append(soup.find_all('div', {'class': 'lister__item__details'})[i].text)\n",
    "        price.append(soup.find_all('span', {'class': 'lister__item__price-full'})[i].text)\n",
    "        \n",
    "        img_url.append(soup.find_all('div', {'class': 'lister__item__image productView'})[i].img['data-original'])\n",
    "        product_url.append(base_url + \\\n",
    "                      soup.find_all('div', {'class': 'lister__item__image productView'})[i].a['href'])\n",
    "    del soup"
   ]
  },
  {
   "cell_type": "code",
   "execution_count": 26,
   "metadata": {
    "ExecuteTime": {
     "end_time": "2020-11-10T00:41:17.656684Z",
     "start_time": "2020-11-10T00:41:17.585422Z"
    }
   },
   "outputs": [
    {
     "data": {
      "text/plain": [
       "125"
      ]
     },
     "execution_count": 26,
     "metadata": {},
     "output_type": "execute_result"
    }
   ],
   "source": [
    "len(soup.find_all('span', {'class': 'lister__item__price-full'}))"
   ]
  },
  {
   "cell_type": "code",
   "execution_count": 24,
   "metadata": {
    "ExecuteTime": {
     "end_time": "2020-11-10T00:40:31.119258Z",
     "start_time": "2020-11-10T00:40:31.114290Z"
    }
   },
   "outputs": [],
   "source": [
    "brand = []\n",
    "item = []\n",
    "price = []\n",
    "img_url = []\n",
    "product_url = []"
   ]
  },
  {
   "cell_type": "code",
   "execution_count": 25,
   "metadata": {
    "ExecuteTime": {
     "end_time": "2020-11-10T00:41:17.579443Z",
     "start_time": "2020-11-10T00:40:41.123393Z"
    }
   },
   "outputs": [],
   "source": [
    "parse_one_page(page_source)"
   ]
  },
  {
   "cell_type": "code",
   "execution_count": 29,
   "metadata": {
    "ExecuteTime": {
     "end_time": "2020-11-10T00:45:16.307220Z",
     "start_time": "2020-11-10T00:44:50.980564Z"
    }
   },
   "outputs": [],
   "source": [
    "driver.get('https://www.matchesfashion.com/us/mens/shop/clothing/loungewear')\n",
    "time.sleep(2)\n",
    "\n",
    "page_source2 = driver.page_source\n",
    "parse_one_page(page_source2)"
   ]
  },
  {
   "cell_type": "code",
   "execution_count": 55,
   "metadata": {
    "ExecuteTime": {
     "end_time": "2020-11-10T01:24:26.530420Z",
     "start_time": "2020-11-10T01:24:26.516477Z"
    }
   },
   "outputs": [],
   "source": [
    "df = pd.DataFrame(list(zip(brand, item, price, img_url, product_url)),\n",
    "            columns=['brand', 'item', 'price', 'img_url', 'product_url'])"
   ]
  },
  {
   "cell_type": "code",
   "execution_count": 56,
   "metadata": {
    "ExecuteTime": {
     "end_time": "2020-11-10T01:24:27.769059Z",
     "start_time": "2020-11-10T01:24:27.756092Z"
    }
   },
   "outputs": [],
   "source": [
    "women = df[:125]\n",
    "men = df[125:]"
   ]
  },
  {
   "cell_type": "code",
   "execution_count": 57,
   "metadata": {
    "ExecuteTime": {
     "end_time": "2020-11-10T01:24:29.161460Z",
     "start_time": "2020-11-10T01:24:29.139517Z"
    }
   },
   "outputs": [],
   "source": [
    "women.to_csv('MatchesFashion_women.csv', index=False, encoding='utf-8-sig')\n",
    "men.to_csv('MatchesFashion_men.csv', index=False, encoding='utf-8-sig')"
   ]
  },
  {
   "cell_type": "code",
   "execution_count": 74,
   "metadata": {
    "ExecuteTime": {
     "end_time": "2020-11-10T02:08:35.337653Z",
     "start_time": "2020-11-10T02:08:25.360365Z"
    }
   },
   "outputs": [],
   "source": [
    "counter = 1\n",
    "\n",
    "for i in img_url[:125]:\n",
    "    with open(\"MatchesFashion_w\" + str(counter) + \".jpg\", \"wb\") as f:\n",
    "        headers = {\"user-agent\": \"Mizilla/5.0\"}\n",
    "        r = requests.get('http:' + i, headers=headers)\n",
    "        f.write(r.content)\n",
    "    counter += 1\n",
    "\n",
    "del counter"
   ]
  },
  {
   "cell_type": "code",
   "execution_count": 75,
   "metadata": {
    "ExecuteTime": {
     "end_time": "2020-11-10T02:14:45.032261Z",
     "start_time": "2020-11-10T02:14:37.027055Z"
    }
   },
   "outputs": [],
   "source": [
    "counter = 1\n",
    "\n",
    "for i in img_url[125:]:\n",
    "    with open(\"MatchesFashion_m\" + str(counter) + \".jpg\", \"wb\") as f:\n",
    "        headers = {\"user-agent\": \"Mizilla/5.0\"}\n",
    "        r = requests.get('http:' + i, headers=headers)\n",
    "        f.write(r.content)\n",
    "    counter += 1\n",
    "\n",
    "del counter"
   ]
  },
  {
   "cell_type": "code",
   "execution_count": null,
   "metadata": {
    "ExecuteTime": {
     "end_time": "2020-11-10T01:25:45.132076Z",
     "start_time": "2020-11-10T01:25:45.111150Z"
    }
   },
   "outputs": [],
   "source": []
  },
  {
   "cell_type": "code",
   "execution_count": null,
   "metadata": {},
   "outputs": [],
   "source": []
  }
 ],
 "metadata": {
  "kernelspec": {
   "display_name": "Python 3",
   "language": "python",
   "name": "python3"
  },
  "language_info": {
   "codemirror_mode": {
    "name": "ipython",
    "version": 3
   },
   "file_extension": ".py",
   "mimetype": "text/x-python",
   "name": "python",
   "nbconvert_exporter": "python",
   "pygments_lexer": "ipython3",
   "version": "3.6.10"
  },
  "toc": {
   "base_numbering": 1,
   "nav_menu": {},
   "number_sections": true,
   "sideBar": true,
   "skip_h1_title": false,
   "title_cell": "Table of Contents",
   "title_sidebar": "Contents",
   "toc_cell": false,
   "toc_position": {},
   "toc_section_display": true,
   "toc_window_display": false
  }
 },
 "nbformat": 4,
 "nbformat_minor": 4
}
