{
 "cells": [
  {
   "cell_type": "code",
   "execution_count": 3,
   "metadata": {
    "ExecuteTime": {
     "end_time": "2020-11-07T01:54:11.441714Z",
     "start_time": "2020-11-07T01:54:11.002911Z"
    }
   },
   "outputs": [],
   "source": [
    "import requests\n",
    "from bs4 import BeautifulSoup"
   ]
  },
  {
   "cell_type": "code",
   "execution_count": 64,
   "metadata": {
    "ExecuteTime": {
     "end_time": "2020-11-02T03:31:40.518269Z",
     "start_time": "2020-11-02T03:31:38.648264Z"
    }
   },
   "outputs": [],
   "source": [
    "# request\n",
    "html = requests.get('https://www.farfetch.com/fr/shopping/women/search/items.aspx?rnd=637396489269977811&q=pyjama').text\n",
    "soup = BeautifulSoup(html)"
   ]
  },
  {
   "cell_type": "code",
   "execution_count": 65,
   "metadata": {
    "ExecuteTime": {
     "end_time": "2020-11-02T03:31:43.828309Z",
     "start_time": "2020-11-02T03:31:43.703156Z"
    }
   },
   "outputs": [],
   "source": [
    "# main\n",
    "brand = []\n",
    "item = []\n",
    "price = []\n",
    "deal_price = []\n",
    "img_url = []\n",
    "product_url = []\n",
    "\n",
    "\n",
    "base_url = 'https://www.farfetch.com'    \n",
    "info = soup.find_all('li', {'class': '_0a5d39 _d85b45'})\n",
    "for i in info:\n",
    "    brand.append(i.find('h3').text)\n",
    "    item.append(i.find('p').text)\n",
    "    price.append(i.find('div', {'class': '_6356bb'}).span.text.strip())\n",
    "    if i.find('span', {'class': '_ad18db'}) is not None:\n",
    "        deal_price.append(i.find('span', {'class': '_ad18db'}).text.strip())\n",
    "    else:\n",
    "        deal_price.append(None)\n",
    "    img_url.append(i.find('a', {'class': '_5ce6f6'}).meta.get('content'))\n",
    "    product_url.append(base_url + \\\n",
    "                       i.find('a', {'class': '_5ce6f6'}).get('href'))"
   ]
  },
  {
   "cell_type": "code",
   "execution_count": 24,
   "metadata": {
    "ExecuteTime": {
     "end_time": "2020-11-02T02:31:03.676854Z",
     "start_time": "2020-11-02T02:31:03.609036Z"
    }
   },
   "outputs": [
    {
     "data": {
      "text/plain": [
       "'https://cdn-images.farfetch-contents.com/14/40/59/67/14405967_21039630_300.jpg'"
      ]
     },
     "execution_count": 24,
     "metadata": {},
     "output_type": "execute_result"
    }
   ],
   "source": [
    "# test 1\n",
    "soup.find_all('a', {'class': '_5ce6f6'})[0].meta.get('content')"
   ]
  },
  {
   "cell_type": "code",
   "execution_count": 25,
   "metadata": {
    "ExecuteTime": {
     "end_time": "2020-11-02T02:31:17.124695Z",
     "start_time": "2020-11-02T02:31:17.062860Z"
    }
   },
   "outputs": [
    {
     "data": {
      "text/plain": [
       "'Marc Jacobs'"
      ]
     },
     "execution_count": 25,
     "metadata": {},
     "output_type": "execute_result"
    }
   ],
   "source": [
    "# test 2\n",
    "soup.find_all('h3', {'class': '_346238'})[0].text"
   ]
  },
  {
   "cell_type": "code",
   "execution_count": 63,
   "metadata": {
    "ExecuteTime": {
     "end_time": "2020-11-02T03:27:12.630963Z",
     "start_time": "2020-11-02T03:27:12.583092Z"
    }
   },
   "outputs": [
    {
     "data": {
      "text/plain": [
       "'375 €'"
      ]
     },
     "execution_count": 63,
     "metadata": {},
     "output_type": "execute_result"
    }
   ],
   "source": [
    "# test 3\n",
    "soup.find_all('div', {'class': '_6356bb'})[0].span.text."
   ]
  },
  {
   "cell_type": "code",
   "execution_count": 66,
   "metadata": {
    "ExecuteTime": {
     "end_time": "2020-11-02T03:31:57.037712Z",
     "start_time": "2020-11-02T03:31:48.489112Z"
    }
   },
   "outputs": [],
   "source": [
    "# check \n",
    "html = requests.get('https://www.farfetch.com/fr/shopping/women/search/items.aspx?page=2&view=180&scale=277&q=pyjama').text\n",
    "soup = BeautifulSoup(html)\n",
    "info = soup.find_all('li', {'class': '_0a5d39 _d85b45'})\n",
    "for i in info:\n",
    "    brand.append(i.find('h3').text)\n",
    "    item.append(i.find('p').text)\n",
    "    price.append(i.find('div', {'class': '_6356bb'}).span.text)\n",
    "    if i.find('span', {'class': '_ad18db'}) is not None:\n",
    "        deal_price.append(i.find('span', {'class': '_ad18db'}).text)\n",
    "    else:\n",
    "        deal_price.append(None)\n",
    "    img_url.append(i.find('a', {'class': '_5ce6f6'}).meta.get('content'))\n",
    "    product_url.append(base_url + \\\n",
    "                       i.find('a', {'class': '_5ce6f6'}).get('href'))"
   ]
  },
  {
   "cell_type": "code",
   "execution_count": 68,
   "metadata": {
    "ExecuteTime": {
     "end_time": "2020-11-02T03:37:35.543599Z",
     "start_time": "2020-11-02T03:37:35.510685Z"
    }
   },
   "outputs": [],
   "source": [
    "# Output to csv\n",
    "import pandas as pd\n",
    "\n",
    "pd.DataFrame(list(zip(brand, item, price, deal_price, img_url, product_url)),\n",
    "            columns = ['brand', 'item', 'price', 'deal_price', 'img_url', 'product_url']).\\\n",
    "            to_csv('Farfetch.csv', index=False, encoding='utf-8-sig')"
   ]
  },
  {
   "cell_type": "code",
   "execution_count": 1,
   "metadata": {
    "ExecuteTime": {
     "end_time": "2020-11-07T01:52:56.172153Z",
     "start_time": "2020-11-07T01:52:55.336755Z"
    }
   },
   "outputs": [],
   "source": [
    "import pandas as pd\n",
    "\n",
    "df = pd.read_csv('Farfetch.csv')"
   ]
  },
  {
   "cell_type": "code",
   "execution_count": null,
   "metadata": {
    "ExecuteTime": {
     "start_time": "2020-11-07T01:54:13.524Z"
    }
   },
   "outputs": [],
   "source": [
    "# Get all of the images from the websites\n",
    "counter = 1\n",
    "for i in df.img_url:\n",
    "    with open(\"Farfetch\" + str(counter) + \".jpg\", \"wb\") as f:\n",
    "        r = requests.get(i)\n",
    "        f.write(r.content)\n",
    "    counter += 1"
   ]
  },
  {
   "cell_type": "code",
   "execution_count": null,
   "metadata": {},
   "outputs": [],
   "source": []
  },
  {
   "cell_type": "code",
   "execution_count": null,
   "metadata": {},
   "outputs": [],
   "source": []
  },
  {
   "cell_type": "code",
   "execution_count": null,
   "metadata": {},
   "outputs": [],
   "source": []
  },
  {
   "cell_type": "code",
   "execution_count": null,
   "metadata": {},
   "outputs": [],
   "source": []
  }
 ],
 "metadata": {
  "kernelspec": {
   "display_name": "Python 3",
   "language": "python",
   "name": "python3"
  },
  "language_info": {
   "codemirror_mode": {
    "name": "ipython",
    "version": 3
   },
   "file_extension": ".py",
   "mimetype": "text/x-python",
   "name": "python",
   "nbconvert_exporter": "python",
   "pygments_lexer": "ipython3",
   "version": "3.6.10"
  },
  "toc": {
   "base_numbering": 1,
   "nav_menu": {},
   "number_sections": true,
   "sideBar": true,
   "skip_h1_title": false,
   "title_cell": "Table of Contents",
   "title_sidebar": "Contents",
   "toc_cell": false,
   "toc_position": {},
   "toc_section_display": true,
   "toc_window_display": false
  }
 },
 "nbformat": 4,
 "nbformat_minor": 4
}
