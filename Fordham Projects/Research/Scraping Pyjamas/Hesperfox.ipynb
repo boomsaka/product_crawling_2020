{
 "cells": [
  {
   "cell_type": "code",
   "execution_count": 1,
   "metadata": {
    "ExecuteTime": {
     "end_time": "2020-11-08T02:57:53.551890Z",
     "start_time": "2020-11-08T02:57:52.219437Z"
    }
   },
   "outputs": [],
   "source": [
    "import requests\n",
    "import pandas as pd\n",
    "from bs4 import BeautifulSoup\n",
    "import re"
   ]
  },
  {
   "cell_type": "code",
   "execution_count": 2,
   "metadata": {
    "ExecuteTime": {
     "end_time": "2020-11-08T02:59:25.946722Z",
     "start_time": "2020-11-08T02:59:25.941736Z"
    }
   },
   "outputs": [],
   "source": [
    "page_list = ['https://hesperfox.com/collections/pyjama-shirts', \n",
    "            'https://hesperfox.com/collections/pyjama-bottoms',\n",
    "            'https://hesperfox.com/collections/slips-and-nightdresses',\n",
    "            'https://hesperfox.com/collections/camisoles-and-shorts',\n",
    "            'https://hesperfox.com/collections/lingerie',\n",
    "            'https://hesperfox.com/collections/robes',\n",
    "            'https://hesperfox.com/collections/sleep-masks']"
   ]
  },
  {
   "cell_type": "code",
   "execution_count": 3,
   "metadata": {
    "ExecuteTime": {
     "end_time": "2020-11-08T03:01:11.787498Z",
     "start_time": "2020-11-08T03:01:11.165344Z"
    }
   },
   "outputs": [],
   "source": [
    "soup = BeautifulSoup(requests.get(page_list[0]).text)"
   ]
  },
  {
   "cell_type": "code",
   "execution_count": 23,
   "metadata": {
    "ExecuteTime": {
     "end_time": "2020-11-08T03:15:32.750963Z",
     "start_time": "2020-11-08T03:15:32.720547Z"
    }
   },
   "outputs": [
    {
     "data": {
      "text/plain": [
       "'Dietrich Silk Pyjama Shirt'"
      ]
     },
     "execution_count": 23,
     "metadata": {},
     "output_type": "execute_result"
    }
   ],
   "source": [
    "soup.find_all('div', {'class': 'h4 grid-view-item__title'})[0].text"
   ]
  },
  {
   "cell_type": "code",
   "execution_count": 46,
   "metadata": {
    "ExecuteTime": {
     "end_time": "2020-11-08T03:26:25.038952Z",
     "start_time": "2020-11-08T03:26:25.011013Z"
    }
   },
   "outputs": [
    {
     "data": {
      "text/plain": [
       "'£165'"
      ]
     },
     "execution_count": 46,
     "metadata": {},
     "output_type": "execute_result"
    }
   ],
   "source": [
    "soup.find_all('div', {'class': 'grid-view-item__meta-wrapper'})[9].\\\n",
    "    find('span', {'class': 'product-price__price'}).text"
   ]
  },
  {
   "cell_type": "code",
   "execution_count": 47,
   "metadata": {
    "ExecuteTime": {
     "end_time": "2020-11-08T03:31:51.211089Z",
     "start_time": "2020-11-08T03:31:51.190124Z"
    }
   },
   "outputs": [
    {
     "data": {
      "text/plain": [
       "<div class=\"grid-view-item__meta-wrapper\">\n",
       "<div class=\"h4 grid-view-item__title\">Pepper Blue Linen Pyjama Shirt</div>\n",
       "<div class=\"grid-view-item__meta\">\n",
       "<!-- snippet/product-price.liquid -->\n",
       "<span class=\"visually-hidden\">Regular price</span>\n",
       "<s class=\"product-price__price\">£85</s>\n",
       "<span class=\"product-price__price product-price__sale\">\n",
       "      £51\n",
       "      <span class=\"product-price__sale-label\">Sale</span>\n",
       "</span>\n",
       "</div>\n",
       "</div>"
      ]
     },
     "execution_count": 47,
     "metadata": {},
     "output_type": "execute_result"
    }
   ],
   "source": [
    "soup.find_all('div', {'class': 'grid-view-item__meta-wrapper'})[1]"
   ]
  },
  {
   "cell_type": "code",
   "execution_count": 22,
   "metadata": {
    "ExecuteTime": {
     "end_time": "2020-11-08T03:11:55.719753Z",
     "start_time": "2020-11-08T03:11:55.697811Z"
    }
   },
   "outputs": [
    {
     "data": {
      "text/plain": [
       "<img alt=\"Dietrich Silk Pyjama Shirt\" class=\"grid-view-item__image lazyload\" data-aspectratio=\"0.6666666666666666\" data-sizes=\"auto\" data-src=\"//cdn.shopify.com/s/files/1/1007/3378/products/Dietrich_PJs_shirt_green_{width}x.jpg?v=1568339956\" data-widths=\"[180, 360, 540, 720, 900, 1080, 1296, 1512, 1728, 2048]\" id=\"ProductCardImage-collection-shop-template-1901289308231\" src=\"//cdn.shopify.com/s/files/1/1007/3378/products/Dietrich_PJs_shirt_green_300x300.jpg?v=1568339956\"/>"
      ]
     },
     "execution_count": 22,
     "metadata": {},
     "output_type": "execute_result"
    }
   ],
   "source": [
    "soup.find_all('div', {'class': 'grid-view-item__image-wrapper js'})[0].img.get('src')"
   ]
  },
  {
   "cell_type": "code",
   "execution_count": 108,
   "metadata": {
    "ExecuteTime": {
     "end_time": "2020-11-08T17:36:29.909522Z",
     "start_time": "2020-11-08T17:36:29.890571Z"
    }
   },
   "outputs": [],
   "source": [
    "def parse_one_page(html):\n",
    "    base_url = 'https://hesperfox.com'\n",
    "    soup = BeautifulSoup(html)\n",
    "    info = len(soup.find_all('div', {'class': 'grid-view-item__meta-wrapper'}))\n",
    "    for i in range(info):\n",
    "        brand.append('Hesper Fox')\n",
    "        item.append(soup.find_all('div', {'class': 'h4 grid-view-item__title'})[i].text)\n",
    "        price.append(re.findall(r'\\D\\d+', soup.find_all('div', {'class': 'grid-view-item__meta-wrapper'})[i].\\\n",
    "                find('span', {'class': 'product-price__price'}).text)[0])\n",
    "        if soup.find_all('div', {'class': 'grid-view-item__meta-wrapper'})[i].\\\n",
    "            find('span',{'class': 'product-price__sale-label'}) != None:\n",
    "            deal_price.append(re.findall(r'\\D\\d+', soup.find_all('div', {'class': 'grid-view-item__meta-wrapper'})[i].\\\n",
    "                            find('span',{'class': 'product-price__price product-price__sale'}).text)[0])\n",
    "        else:\n",
    "            deal_price.append(None)\n",
    "        img_url.append(soup.find_all('div', {'class': 'grid-view-item__image-wrapper js'})[i].img.get('src'))\n",
    "        product_url.append(base_url + \\\n",
    "                      soup.find_all('a', {'class': 'grid-view-item__link grid-view-item__image-container'})[i]['href'])\n",
    "    del soup"
   ]
  },
  {
   "cell_type": "code",
   "execution_count": 27,
   "metadata": {
    "ExecuteTime": {
     "end_time": "2020-11-08T03:18:05.787887Z",
     "start_time": "2020-11-08T03:18:05.772927Z"
    }
   },
   "outputs": [
    {
     "data": {
      "text/plain": [
       "'/collections/pyjama-shirts/products/dietrich-silk-pyjama-shirt-1'"
      ]
     },
     "execution_count": 27,
     "metadata": {},
     "output_type": "execute_result"
    }
   ],
   "source": [
    "soup.find_all('a', {'class': 'grid-view-item__link grid-view-item__image-container'})[0]['href']"
   ]
  },
  {
   "cell_type": "code",
   "execution_count": 129,
   "metadata": {
    "ExecuteTime": {
     "end_time": "2020-11-08T20:26:28.060033Z",
     "start_time": "2020-11-08T20:26:28.045073Z"
    }
   },
   "outputs": [],
   "source": [
    "brand = []\n",
    "item = []\n",
    "price = []\n",
    "deal_price = []\n",
    "img_url = []\n",
    "product_url = []\n",
    "\n",
    "\n",
    "#parse_one_page(requests.get(page_list[1]).text)"
   ]
  },
  {
   "cell_type": "code",
   "execution_count": 96,
   "metadata": {
    "ExecuteTime": {
     "end_time": "2020-11-08T17:10:35.135632Z",
     "start_time": "2020-11-08T17:10:35.129669Z"
    }
   },
   "outputs": [],
   "source": [
    "from selenium import webdriver\n",
    "import time"
   ]
  },
  {
   "cell_type": "code",
   "execution_count": 94,
   "metadata": {
    "ExecuteTime": {
     "end_time": "2020-11-08T17:10:20.562530Z",
     "start_time": "2020-11-08T17:10:17.207530Z"
    }
   },
   "outputs": [],
   "source": [
    "driver = webdriver.Chrome()"
   ]
  },
  {
   "cell_type": "code",
   "execution_count": 130,
   "metadata": {
    "ExecuteTime": {
     "end_time": "2020-11-08T20:27:46.858458Z",
     "start_time": "2020-11-08T20:26:35.057959Z"
    }
   },
   "outputs": [],
   "source": [
    "for i,j in enumerate(page_list):\n",
    "    driver.get(j)\n",
    "    time.sleep(1)\n",
    "\n",
    "    for i in range(15):\n",
    "        js='window.scrollBy(0,500)'\n",
    "        driver.execute_script(js)\n",
    "        time.sleep(0.5)\n",
    "\n",
    "    page_source = driver.page_source\n",
    "    parse_one_page(page_source)\n",
    "    del page_source"
   ]
  },
  {
   "cell_type": "code",
   "execution_count": 132,
   "metadata": {
    "ExecuteTime": {
     "end_time": "2020-11-08T20:28:47.275638Z",
     "start_time": "2020-11-08T20:28:47.237021Z"
    }
   },
   "outputs": [
    {
     "data": {
      "text/html": [
       "<div>\n",
       "<style scoped>\n",
       "    .dataframe tbody tr th:only-of-type {\n",
       "        vertical-align: middle;\n",
       "    }\n",
       "\n",
       "    .dataframe tbody tr th {\n",
       "        vertical-align: top;\n",
       "    }\n",
       "\n",
       "    .dataframe thead th {\n",
       "        text-align: right;\n",
       "    }\n",
       "</style>\n",
       "<table border=\"1\" class=\"dataframe\">\n",
       "  <thead>\n",
       "    <tr style=\"text-align: right;\">\n",
       "      <th></th>\n",
       "      <th>brand</th>\n",
       "      <th>item</th>\n",
       "      <th>price</th>\n",
       "      <th>deal_price</th>\n",
       "      <th>img_url</th>\n",
       "      <th>product_url</th>\n",
       "    </tr>\n",
       "  </thead>\n",
       "  <tbody>\n",
       "    <tr>\n",
       "      <th>0</th>\n",
       "      <td>Hesper Fox</td>\n",
       "      <td>Dietrich Silk Pyjama Shirt</td>\n",
       "      <td>£122</td>\n",
       "      <td>£122</td>\n",
       "      <td>//cdn.shopify.com/s/files/1/1007/3378/products...</td>\n",
       "      <td>https://hesperfox.com/collections/pyjama-shirt...</td>\n",
       "    </tr>\n",
       "    <tr>\n",
       "      <th>1</th>\n",
       "      <td>Hesper Fox</td>\n",
       "      <td>Pepper Blue Linen Pyjama Shirt</td>\n",
       "      <td>£51</td>\n",
       "      <td>£51</td>\n",
       "      <td>//cdn.shopify.com/s/files/1/1007/3378/products...</td>\n",
       "      <td>https://hesperfox.com/collections/pyjama-shirt...</td>\n",
       "    </tr>\n",
       "    <tr>\n",
       "      <th>2</th>\n",
       "      <td>Hesper Fox</td>\n",
       "      <td>Dietrich Pale Pink Silk Pyjama Shirt</td>\n",
       "      <td>£175</td>\n",
       "      <td>None</td>\n",
       "      <td>//cdn.shopify.com/s/files/1/1007/3378/products...</td>\n",
       "      <td>https://hesperfox.com/collections/pyjama-shirt...</td>\n",
       "    </tr>\n",
       "    <tr>\n",
       "      <th>3</th>\n",
       "      <td>Hesper Fox</td>\n",
       "      <td>Pepper Pink Linen Pyjama Shirt</td>\n",
       "      <td>£85</td>\n",
       "      <td>None</td>\n",
       "      <td>//cdn.shopify.com/s/files/1/1007/3378/products...</td>\n",
       "      <td>https://hesperfox.com/collections/pyjama-shirt...</td>\n",
       "    </tr>\n",
       "    <tr>\n",
       "      <th>4</th>\n",
       "      <td>Hesper Fox</td>\n",
       "      <td>Lulu Black Short-sleeved Silk Sleep Shirt</td>\n",
       "      <td>£150</td>\n",
       "      <td>None</td>\n",
       "      <td>//cdn.shopify.com/s/files/1/1007/3378/products...</td>\n",
       "      <td>https://hesperfox.com/collections/pyjama-shirt...</td>\n",
       "    </tr>\n",
       "    <tr>\n",
       "      <th>...</th>\n",
       "      <td>...</td>\n",
       "      <td>...</td>\n",
       "      <td>...</td>\n",
       "      <td>...</td>\n",
       "      <td>...</td>\n",
       "      <td>...</td>\n",
       "    </tr>\n",
       "    <tr>\n",
       "      <th>95</th>\n",
       "      <td>Hesper Fox</td>\n",
       "      <td>Kitsune Monochrome Silk Sleep Mask</td>\n",
       "      <td>£50</td>\n",
       "      <td>None</td>\n",
       "      <td>//cdn.shopify.com/s/files/1/1007/3378/products...</td>\n",
       "      <td>https://hesperfox.com/collections/sleep-masks/...</td>\n",
       "    </tr>\n",
       "    <tr>\n",
       "      <th>96</th>\n",
       "      <td>Hesper Fox</td>\n",
       "      <td>Kitsune Emerald Stripe Silk Sleep Mask</td>\n",
       "      <td>£50</td>\n",
       "      <td>None</td>\n",
       "      <td>//cdn.shopify.com/s/files/1/1007/3378/products...</td>\n",
       "      <td>https://hesperfox.com/collections/sleep-masks/...</td>\n",
       "    </tr>\n",
       "    <tr>\n",
       "      <th>97</th>\n",
       "      <td>Hesper Fox</td>\n",
       "      <td>Tonight's the Night Silk Sleep Mask</td>\n",
       "      <td>£45</td>\n",
       "      <td>None</td>\n",
       "      <td>//cdn.shopify.com/s/files/1/1007/3378/products...</td>\n",
       "      <td>https://hesperfox.com/collections/sleep-masks/...</td>\n",
       "    </tr>\n",
       "    <tr>\n",
       "      <th>98</th>\n",
       "      <td>Hesper Fox</td>\n",
       "      <td>Because the Night Silk Sleep Mask</td>\n",
       "      <td>£45</td>\n",
       "      <td>None</td>\n",
       "      <td>//cdn.shopify.com/s/files/1/1007/3378/products...</td>\n",
       "      <td>https://hesperfox.com/collections/sleep-masks/...</td>\n",
       "    </tr>\n",
       "    <tr>\n",
       "      <th>99</th>\n",
       "      <td>Hesper Fox</td>\n",
       "      <td>Nightmoves Silk Sleep Mask</td>\n",
       "      <td>£45</td>\n",
       "      <td>None</td>\n",
       "      <td>//cdn.shopify.com/s/files/1/1007/3378/products...</td>\n",
       "      <td>https://hesperfox.com/collections/sleep-masks/...</td>\n",
       "    </tr>\n",
       "  </tbody>\n",
       "</table>\n",
       "<p>100 rows × 6 columns</p>\n",
       "</div>"
      ],
      "text/plain": [
       "         brand                                       item price deal_price  \\\n",
       "0   Hesper Fox                 Dietrich Silk Pyjama Shirt  £122       £122   \n",
       "1   Hesper Fox             Pepper Blue Linen Pyjama Shirt   £51        £51   \n",
       "2   Hesper Fox       Dietrich Pale Pink Silk Pyjama Shirt  £175       None   \n",
       "3   Hesper Fox             Pepper Pink Linen Pyjama Shirt   £85       None   \n",
       "4   Hesper Fox  Lulu Black Short-sleeved Silk Sleep Shirt  £150       None   \n",
       "..         ...                                        ...   ...        ...   \n",
       "95  Hesper Fox         Kitsune Monochrome Silk Sleep Mask   £50       None   \n",
       "96  Hesper Fox     Kitsune Emerald Stripe Silk Sleep Mask   £50       None   \n",
       "97  Hesper Fox        Tonight's the Night Silk Sleep Mask   £45       None   \n",
       "98  Hesper Fox          Because the Night Silk Sleep Mask   £45       None   \n",
       "99  Hesper Fox                 Nightmoves Silk Sleep Mask   £45       None   \n",
       "\n",
       "                                              img_url  \\\n",
       "0   //cdn.shopify.com/s/files/1/1007/3378/products...   \n",
       "1   //cdn.shopify.com/s/files/1/1007/3378/products...   \n",
       "2   //cdn.shopify.com/s/files/1/1007/3378/products...   \n",
       "3   //cdn.shopify.com/s/files/1/1007/3378/products...   \n",
       "4   //cdn.shopify.com/s/files/1/1007/3378/products...   \n",
       "..                                                ...   \n",
       "95  //cdn.shopify.com/s/files/1/1007/3378/products...   \n",
       "96  //cdn.shopify.com/s/files/1/1007/3378/products...   \n",
       "97  //cdn.shopify.com/s/files/1/1007/3378/products...   \n",
       "98  //cdn.shopify.com/s/files/1/1007/3378/products...   \n",
       "99  //cdn.shopify.com/s/files/1/1007/3378/products...   \n",
       "\n",
       "                                          product_url  \n",
       "0   https://hesperfox.com/collections/pyjama-shirt...  \n",
       "1   https://hesperfox.com/collections/pyjama-shirt...  \n",
       "2   https://hesperfox.com/collections/pyjama-shirt...  \n",
       "3   https://hesperfox.com/collections/pyjama-shirt...  \n",
       "4   https://hesperfox.com/collections/pyjama-shirt...  \n",
       "..                                                ...  \n",
       "95  https://hesperfox.com/collections/sleep-masks/...  \n",
       "96  https://hesperfox.com/collections/sleep-masks/...  \n",
       "97  https://hesperfox.com/collections/sleep-masks/...  \n",
       "98  https://hesperfox.com/collections/sleep-masks/...  \n",
       "99  https://hesperfox.com/collections/sleep-masks/...  \n",
       "\n",
       "[100 rows x 6 columns]"
      ]
     },
     "execution_count": 132,
     "metadata": {},
     "output_type": "execute_result"
    }
   ],
   "source": [
    "pd.DataFrame(list(zip(brand, item, price, deal_price, img_url, product_url)),\n",
    "            columns=['brand', 'item', 'price', 'deal_price', 'img_url', 'product_url'])"
   ]
  },
  {
   "cell_type": "code",
   "execution_count": 133,
   "metadata": {
    "ExecuteTime": {
     "end_time": "2020-11-08T20:29:11.227224Z",
     "start_time": "2020-11-08T20:28:58.900938Z"
    }
   },
   "outputs": [],
   "source": [
    "counter = 1\n",
    "\n",
    "for i in img_url:\n",
    "    with open(\"HesperFox\" + str(counter) + \".jpg\", \"wb\") as f:\n",
    "        r = requests.get('https:' + i)\n",
    "        f.write(r.content)\n",
    "    counter += 1"
   ]
  },
  {
   "cell_type": "code",
   "execution_count": 131,
   "metadata": {
    "ExecuteTime": {
     "end_time": "2020-11-08T20:28:39.560452Z",
     "start_time": "2020-11-08T20:28:39.548456Z"
    }
   },
   "outputs": [
    {
     "data": {
      "text/plain": [
       "100"
      ]
     },
     "execution_count": 131,
     "metadata": {},
     "output_type": "execute_result"
    }
   ],
   "source": [
    "len(item)"
   ]
  },
  {
   "cell_type": "code",
   "execution_count": null,
   "metadata": {},
   "outputs": [],
   "source": []
  }
 ],
 "metadata": {
  "kernelspec": {
   "display_name": "Python 3",
   "language": "python",
   "name": "python3"
  },
  "language_info": {
   "codemirror_mode": {
    "name": "ipython",
    "version": 3
   },
   "file_extension": ".py",
   "mimetype": "text/x-python",
   "name": "python",
   "nbconvert_exporter": "python",
   "pygments_lexer": "ipython3",
   "version": "3.6.10"
  },
  "toc": {
   "base_numbering": 1,
   "nav_menu": {},
   "number_sections": true,
   "sideBar": true,
   "skip_h1_title": false,
   "title_cell": "Table of Contents",
   "title_sidebar": "Contents",
   "toc_cell": false,
   "toc_position": {},
   "toc_section_display": true,
   "toc_window_display": false
  }
 },
 "nbformat": 4,
 "nbformat_minor": 4
}
