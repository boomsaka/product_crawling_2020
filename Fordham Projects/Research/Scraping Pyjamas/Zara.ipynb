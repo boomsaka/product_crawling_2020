{
 "cells": [
  {
   "cell_type": "code",
   "execution_count": 1,
   "metadata": {
    "ExecuteTime": {
     "end_time": "2020-11-11T04:39:37.143335Z",
     "start_time": "2020-11-11T04:39:35.724906Z"
    }
   },
   "outputs": [],
   "source": [
    "import requests\n",
    "import pandas as pd\n",
    "from bs4 import BeautifulSoup\n",
    "from selenium import webdriver\n",
    "import time"
   ]
  },
  {
   "cell_type": "markdown",
   "metadata": {},
   "source": [
    "# Page Inspection"
   ]
  },
  {
   "cell_type": "code",
   "execution_count": 2,
   "metadata": {
    "ExecuteTime": {
     "end_time": "2020-11-11T04:40:28.854302Z",
     "start_time": "2020-11-11T04:40:28.185433Z"
    }
   },
   "outputs": [],
   "source": [
    "soup = BeautifulSoup(requests.get('https://www.zara.com/us/en/woman-trend-19-l1885.html?v1=1549515').text)"
   ]
  },
  {
   "cell_type": "code",
   "execution_count": 8,
   "metadata": {
    "ExecuteTime": {
     "end_time": "2020-11-11T04:45:38.879070Z",
     "start_time": "2020-11-11T04:45:38.874104Z"
    }
   },
   "outputs": [],
   "source": [
    "#soup.prettify()"
   ]
  },
  {
   "cell_type": "code",
   "execution_count": 10,
   "metadata": {
    "ExecuteTime": {
     "end_time": "2020-11-11T04:45:58.650679Z",
     "start_time": "2020-11-11T04:45:58.553916Z"
    }
   },
   "outputs": [
    {
     "data": {
      "text/plain": [
       "548"
      ]
     },
     "execution_count": 10,
     "metadata": {},
     "output_type": "execute_result"
    }
   ],
   "source": [
    "soup.find_all('a', {'class': 'item _item'})[0]."
   ]
  },
  {
   "cell_type": "code",
   "execution_count": 34,
   "metadata": {
    "ExecuteTime": {
     "end_time": "2020-11-11T16:22:05.207432Z",
     "start_time": "2020-11-11T16:22:05.105679Z"
    }
   },
   "outputs": [
    {
     "data": {
      "text/plain": [
       "'BI-STRETCH EXTRA LONG LEGGINGS'"
      ]
     },
     "execution_count": 34,
     "metadata": {},
     "output_type": "execute_result"
    }
   ],
   "source": [
    "# Product name\n",
    "soup.find_all('span', {'class': 'product-name'})[60].text"
   ]
  },
  {
   "cell_type": "code",
   "execution_count": 45,
   "metadata": {
    "ExecuteTime": {
     "end_time": "2020-11-11T16:37:49.939561Z",
     "start_time": "2020-11-11T16:37:49.833830Z"
    }
   },
   "outputs": [
    {
     "data": {
      "text/plain": [
       "477"
      ]
     },
     "execution_count": 45,
     "metadata": {},
     "output_type": "execute_result"
    }
   ],
   "source": [
    "# Product price\n",
    "len(soup.find_all('span', {'class': 'main-price'}))"
   ]
  },
  {
   "cell_type": "code",
   "execution_count": 18,
   "metadata": {
    "ExecuteTime": {
     "end_time": "2020-11-11T04:49:25.249027Z",
     "start_time": "2020-11-11T04:49:25.098697Z"
    }
   },
   "outputs": [
    {
     "data": {
      "text/plain": [
       "[]"
      ]
     },
     "execution_count": 18,
     "metadata": {},
     "output_type": "execute_result"
    }
   ],
   "source": [
    "# image\n",
    "soup.find_all('img', {'class': 'product-media _img _imgImpressions  _imageLoaded'})"
   ]
  },
  {
   "cell_type": "code",
   "execution_count": 39,
   "metadata": {
    "ExecuteTime": {
     "end_time": "2020-11-11T16:27:03.900054Z",
     "start_time": "2020-11-11T16:27:03.789348Z"
    }
   },
   "outputs": [
    {
     "data": {
      "text/plain": [
       "'https://static.zara.net/stdstatic/1.189.1-b.3/images/transparent-background.png'"
      ]
     },
     "execution_count": 39,
     "metadata": {},
     "output_type": "execute_result"
    }
   ],
   "source": [
    "soup.find_all('a', {'class': 'item _item'})[100].img['src']"
   ]
  },
  {
   "cell_type": "code",
   "execution_count": 36,
   "metadata": {
    "ExecuteTime": {
     "end_time": "2020-11-11T16:22:14.913983Z",
     "start_time": "2020-11-11T16:22:14.791452Z"
    }
   },
   "outputs": [
    {
     "data": {
      "text/plain": [
       "'https://www.zara.com/us/en/jogging-pants-p00264847.html'"
      ]
     },
     "execution_count": 36,
     "metadata": {},
     "output_type": "execute_result"
    }
   ],
   "source": [
    "soup.find_all('a', {'class': 'item _item'})[0]['href']"
   ]
  },
  {
   "cell_type": "code",
   "execution_count": 32,
   "metadata": {
    "ExecuteTime": {
     "end_time": "2020-11-11T16:20:06.704530Z",
     "start_time": "2020-11-11T16:20:03.200533Z"
    }
   },
   "outputs": [],
   "source": [
    "driver = webdriver.Chrome()"
   ]
  },
  {
   "cell_type": "code",
   "execution_count": 35,
   "metadata": {
    "ExecuteTime": {
     "end_time": "2020-11-11T16:22:09.954771Z",
     "start_time": "2020-11-11T16:22:09.458352Z"
    }
   },
   "outputs": [],
   "source": [
    "soup = BeautifulSoup(page_source)"
   ]
  },
  {
   "cell_type": "code",
   "execution_count": 42,
   "metadata": {
    "ExecuteTime": {
     "end_time": "2020-11-11T16:34:06.256611Z",
     "start_time": "2020-11-11T16:34:06.156218Z"
    }
   },
   "outputs": [
    {
     "data": {
      "text/plain": [
       "533"
      ]
     },
     "execution_count": 42,
     "metadata": {},
     "output_type": "execute_result"
    }
   ],
   "source": [
    "len(soup.find_all('a', {'class': 'item _item'}))"
   ]
  },
  {
   "cell_type": "code",
   "execution_count": 165,
   "metadata": {
    "ExecuteTime": {
     "end_time": "2020-11-11T21:34:57.314743Z",
     "start_time": "2020-11-11T21:34:57.304754Z"
    }
   },
   "outputs": [],
   "source": [
    "\n",
    "#deal_price = []\n",
    "\n",
    "#product_url = []"
   ]
  },
  {
   "cell_type": "code",
   "execution_count": 52,
   "metadata": {
    "ExecuteTime": {
     "end_time": "2020-11-11T18:27:01.955030Z",
     "start_time": "2020-11-11T18:27:01.852279Z"
    }
   },
   "outputs": [
    {
     "data": {
      "text/plain": [
       "'https://www.zara.com/us/en/basic-sweatshirt-p01660802.html'"
      ]
     },
     "execution_count": 52,
     "metadata": {},
     "output_type": "execute_result"
    }
   ],
   "source": [
    "soup.find_all('li', {'class': 'product _product double _doubleChanged'})[0].a['href']"
   ]
  },
  {
   "cell_type": "code",
   "execution_count": 57,
   "metadata": {
    "ExecuteTime": {
     "end_time": "2020-11-11T18:29:51.646052Z",
     "start_time": "2020-11-11T18:29:51.545327Z"
    }
   },
   "outputs": [
    {
     "data": {
      "text/plain": [
       "'https://www.zara.com/us/en/plush-jogging-pants-p01660807.html'"
      ]
     },
     "execution_count": 57,
     "metadata": {},
     "output_type": "execute_result"
    }
   ],
   "source": [
    "soup.find_all('li', {'class': 'product _product'})[0].a['href']"
   ]
  },
  {
   "cell_type": "code",
   "execution_count": 60,
   "metadata": {
    "ExecuteTime": {
     "end_time": "2020-11-11T18:30:36.989123Z",
     "start_time": "2020-11-11T18:30:36.872401Z"
    }
   },
   "outputs": [
    {
     "data": {
      "text/plain": [
       "'https://www.zara.com/us/en/merino-wool-blend-pants-p05755156.html'"
      ]
     },
     "execution_count": 60,
     "metadata": {},
     "output_type": "execute_result"
    }
   ],
   "source": [
    "soup.find_all('li', {'class': 'product _product simple-large nth-child2n'})[0].a['href']"
   ]
  },
  {
   "cell_type": "markdown",
   "metadata": {},
   "source": [
    "# Start Scraping"
   ]
  },
  {
   "cell_type": "code",
   "execution_count": 53,
   "metadata": {
    "ExecuteTime": {
     "end_time": "2020-11-11T18:28:44.225266Z",
     "start_time": "2020-11-11T18:28:44.124458Z"
    }
   },
   "outputs": [],
   "source": [
    "for i in soup.find_all('li', {'class': 'product _product double _doubleChanged'}):\n",
    "    product_url.append(i.a['href'])\n",
    "    \n",
    "for i in soup.find_all('li', {'class': 'product _product'}):\n",
    "    product_url.append(i.a['href'])\n",
    "\n",
    "for i in soup.find_all('li', {'class': 'product _product simple-large nth-child2n'}):\n",
    "    product_url.append(i.a['href'])\n"
   ]
  },
  {
   "cell_type": "code",
   "execution_count": 274,
   "metadata": {
    "ExecuteTime": {
     "end_time": "2020-11-12T00:49:43.951092Z",
     "start_time": "2020-11-12T00:49:40.546587Z"
    }
   },
   "outputs": [],
   "source": [
    "driver = webdriver.Chrome()"
   ]
  },
  {
   "cell_type": "code",
   "execution_count": 143,
   "metadata": {
    "ExecuteTime": {
     "end_time": "2020-11-11T19:24:18.393893Z",
     "start_time": "2020-11-11T19:24:14.608983Z"
    }
   },
   "outputs": [],
   "source": [
    "driver.get('https://www.zara.com/us/en/basic-sweatshirt-p01660802.html')\n",
    "time.sleep(1)\n",
    "driver.find_element_by_class_name('_product-composition').click()\n",
    "ps = driver.page_source\n",
    "soup_ = BeautifulSoup(ps)"
   ]
  },
  {
   "cell_type": "code",
   "execution_count": null,
   "metadata": {},
   "outputs": [],
   "source": [
    "# define store lists\n",
    "brand = []\n",
    "item = []\n",
    "price = []\n",
    "deal_price = []\n",
    "img_url = []\n",
    "description = []\n",
    "material = []\n",
    "color = []\n"
   ]
  },
  {
   "cell_type": "code",
   "execution_count": 233,
   "metadata": {
    "ExecuteTime": {
     "end_time": "2020-11-12T00:30:37.921491Z",
     "start_time": "2020-11-12T00:30:37.910495Z"
    }
   },
   "outputs": [],
   "source": [
    "# parse function\n",
    "def parse_page(soup):\n",
    "    img = []\n",
    "    c = []\n",
    "    m = []\n",
    "    \n",
    "    brand.append('Zara')\n",
    "    item.append(soup.find('h1', {'class': 'product-name'}).text.replace('Details', ''))\n",
    "    if soup.find('span', {'class': 'main-price'}) == None:\n",
    "        price.append(soup.find('span', {'class': 'line-through'}).text)\n",
    "        deal_price.append(soup.find('span', {'class': 'sale discount-percentage'}).text)\n",
    "    else:\n",
    "        price.append(soup.find('span', {'class': 'main-price'}).text)\n",
    "        deal_price.append(None)\n",
    "    # multiple images\n",
    "    for j in soup.find_all('img', {'class': 'image-big _img-zoom _main-image'}):\n",
    "        img.append(j['src'])\n",
    "    img_url.append(img)\n",
    "        \n",
    "    description.append(soup_.find('p', {'class': 'description'}).text)\n",
    "        \n",
    "    # color\n",
    "    c.append(soup.find('span', {'class': '_colorName'}).text)\n",
    "    if soup.find('div', {'class': 'colors-title'}):\n",
    "        for k in soup.find_all(class_ = 'color-description'):\n",
    "            c.append(k.text)\n",
    "    color.append(c)\n",
    "    #material\n",
    "    for p in soup.find_all('p', {'class': 'zonasPrenda'}):\n",
    "        m.append(p.text)\n",
    "    material.append(m)\n",
    "    "
   ]
  },
  {
   "cell_type": "code",
   "execution_count": 281,
   "metadata": {
    "ExecuteTime": {
     "end_time": "2020-11-12T00:52:36.132416Z",
     "start_time": "2020-11-12T00:51:04.846110Z"
    }
   },
   "outputs": [],
   "source": [
    "# main \n",
    "for i in product_url:\n",
    "    driver.get(i)\n",
    "    time.sleep(1)\n",
    "    driver.find_element_by_class_name('_product-composition').click()\n",
    "    ps = driver.page_source\n",
    "    soup_ = BeautifulSoup(ps)\n",
    "    parse_page(soup_)\n",
    "    "
   ]
  },
  {
   "cell_type": "code",
   "execution_count": 277,
   "metadata": {
    "ExecuteTime": {
     "end_time": "2020-11-12T00:50:23.058237Z",
     "start_time": "2020-11-12T00:50:23.047266Z"
    }
   },
   "outputs": [
    {
     "data": {
      "text/plain": [
       "251"
      ]
     },
     "execution_count": 277,
     "metadata": {},
     "output_type": "execute_result"
    }
   ],
   "source": [
    "len(product_url)"
   ]
  },
  {
   "cell_type": "code",
   "execution_count": 283,
   "metadata": {
    "ExecuteTime": {
     "end_time": "2020-11-12T00:54:55.294809Z",
     "start_time": "2020-11-12T00:54:55.281843Z"
    }
   },
   "outputs": [
    {
     "data": {
      "text/plain": [
       "(251, 251, 251, 251, 251)"
      ]
     },
     "execution_count": 283,
     "metadata": {},
     "output_type": "execute_result"
    }
   ],
   "source": [
    "len(item), len(brand), len(color), len(description), len(material)"
   ]
  },
  {
   "cell_type": "code",
   "execution_count": 279,
   "metadata": {
    "ExecuteTime": {
     "end_time": "2020-11-12T00:50:31.145373Z",
     "start_time": "2020-11-12T00:50:31.124454Z"
    }
   },
   "outputs": [
    {
     "data": {
      "text/plain": [
       "'Round neck tank top. Adjustable drawstring ruching at sides.'"
      ]
     },
     "execution_count": 279,
     "metadata": {},
     "output_type": "execute_result"
    }
   ],
   "source": [
    "description[-1]"
   ]
  },
  {
   "cell_type": "code",
   "execution_count": 293,
   "metadata": {
    "ExecuteTime": {
     "end_time": "2020-11-12T01:15:17.830825Z",
     "start_time": "2020-11-12T01:15:17.476093Z"
    }
   },
   "outputs": [],
   "source": [
    "driver.close()"
   ]
  },
  {
   "cell_type": "markdown",
   "metadata": {},
   "source": [
    "# Output"
   ]
  },
  {
   "cell_type": "code",
   "execution_count": 288,
   "metadata": {
    "ExecuteTime": {
     "end_time": "2020-11-12T01:12:51.954420Z",
     "start_time": "2020-11-12T01:12:51.943430Z"
    }
   },
   "outputs": [],
   "source": [
    "df = pd.DataFrame(list(zip(brand, item, price, deal_price, img_url, product_url, description, \n",
    "                     material, color)))"
   ]
  },
  {
   "cell_type": "code",
   "execution_count": 290,
   "metadata": {
    "ExecuteTime": {
     "end_time": "2020-11-12T01:13:52.207195Z",
     "start_time": "2020-11-12T01:13:52.200214Z"
    }
   },
   "outputs": [],
   "source": [
    "df.columns = ['brand','item', 'price', 'deal_price', \n",
    "                      'image_url', 'product_url', 'description', 'material','color']"
   ]
  },
  {
   "cell_type": "code",
   "execution_count": 292,
   "metadata": {
    "ExecuteTime": {
     "end_time": "2020-11-12T01:14:25.866242Z",
     "start_time": "2020-11-12T01:14:25.833329Z"
    }
   },
   "outputs": [],
   "source": [
    "df.to_csv('Zara.csv', index=False)"
   ]
  },
  {
   "cell_type": "code",
   "execution_count": null,
   "metadata": {},
   "outputs": [],
   "source": []
  },
  {
   "cell_type": "code",
   "execution_count": null,
   "metadata": {},
   "outputs": [],
   "source": []
  },
  {
   "cell_type": "markdown",
   "metadata": {},
   "source": [
    "# DEBUG"
   ]
  },
  {
   "cell_type": "code",
   "execution_count": 250,
   "metadata": {
    "ExecuteTime": {
     "end_time": "2020-11-12T00:43:15.494462Z",
     "start_time": "2020-11-12T00:43:15.484467Z"
    }
   },
   "outputs": [],
   "source": [
    "brand.insert(193,'Zara')\n",
    "item.insert(193, 'HOODED SWEATSHIRT')\n",
    "price.insert(193, '35.90 USD')\n",
    "deal_price.insert(193, None)\n",
    "img_url.insert(193, ['https://static.zara.net/photos//mkt/misc/watermarks/joinlife-ss19-v2/joinlife-large.svg?ts=1587055628000', \n",
    "                    'src=\"https://static.zara.net/photos///2020/I/0/1/p/0962/812/802/2/w/1143/0962812802_6_1_1.jpg?ts=1601301340094\"',\n",
    "                    'https://static.zara.net/photos///2020/I/0/1/p/0962/812/802/2/w/1143/0962812802_6_2_1.jpg?ts=1601301344279',\n",
    "                    'https://static.zara.net/photos///2020/I/0/1/p/0962/812/802/2/w/1143/0962812802_6_3_1.jpg?ts=1601301320260',\n",
    "                    'https://static.zara.net/photos///contents/cm/w/1143/sustainability-extrainfo-label-JL51_0.jpg?ts=1602602182774'])\n",
    "description.insert(193, 'Long sleeve sweatshirt with adjustable drawstring hood.')\n",
    "color.insert(193, ['Gray'])\n",
    "material.insert(193, ['60% cotton, 40% polyester'])"
   ]
  },
  {
   "cell_type": "code",
   "execution_count": 247,
   "metadata": {
    "ExecuteTime": {
     "end_time": "2020-11-12T00:41:40.599335Z",
     "start_time": "2020-11-12T00:41:40.593330Z"
    }
   },
   "outputs": [
    {
     "data": {
      "text/plain": [
       "'https://www.zara.com/us/en/hooded-sweatshirt-p00962812.html'"
      ]
     },
     "execution_count": 247,
     "metadata": {},
     "output_type": "execute_result"
    }
   ],
   "source": [
    "product_url[193]"
   ]
  },
  {
   "cell_type": "code",
   "execution_count": 260,
   "metadata": {
    "ExecuteTime": {
     "end_time": "2020-11-12T00:44:56.805726Z",
     "start_time": "2020-11-12T00:44:56.791765Z"
    }
   },
   "outputs": [
    {
     "data": {
      "text/plain": [
       "['60% cotton, 40% polyester']"
      ]
     },
     "execution_count": 260,
     "metadata": {},
     "output_type": "execute_result"
    }
   ],
   "source": [
    "brand.pop(194)\n",
    "item.pop(194)\n",
    "price.pop(194)\n",
    "deal_price.pop(194)\n",
    "img_url.pop(194)\n",
    "description.pop(194)\n",
    "color.pop(194)\n",
    "material.pop(194)"
   ]
  },
  {
   "cell_type": "code",
   "execution_count": 262,
   "metadata": {
    "ExecuteTime": {
     "end_time": "2020-11-12T00:45:03.676820Z",
     "start_time": "2020-11-12T00:45:03.655902Z"
    }
   },
   "outputs": [
    {
     "data": {
      "text/plain": [
       "'Long sleeve sweatshirt with adjustable drawstring hood.'"
      ]
     },
     "execution_count": 262,
     "metadata": {},
     "output_type": "execute_result"
    }
   ],
   "source": [
    "description[193]"
   ]
  },
  {
   "cell_type": "code",
   "execution_count": 259,
   "metadata": {
    "ExecuteTime": {
     "end_time": "2020-11-12T00:44:52.686123Z",
     "start_time": "2020-11-12T00:44:52.669168Z"
    }
   },
   "outputs": [
    {
     "data": {
      "text/plain": [
       "'https://www.zara.com/us/en/hooded-sweatshirt-p00962812.html'"
      ]
     },
     "execution_count": 259,
     "metadata": {},
     "output_type": "execute_result"
    }
   ],
   "source": [
    "product_url[193]"
   ]
  },
  {
   "cell_type": "code",
   "execution_count": null,
   "metadata": {},
   "outputs": [],
   "source": []
  }
 ],
 "metadata": {
  "kernelspec": {
   "display_name": "Python 3",
   "language": "python",
   "name": "python3"
  },
  "language_info": {
   "codemirror_mode": {
    "name": "ipython",
    "version": 3
   },
   "file_extension": ".py",
   "mimetype": "text/x-python",
   "name": "python",
   "nbconvert_exporter": "python",
   "pygments_lexer": "ipython3",
   "version": "3.6.10"
  },
  "toc": {
   "base_numbering": 1,
   "nav_menu": {},
   "number_sections": true,
   "sideBar": true,
   "skip_h1_title": false,
   "title_cell": "Table of Contents",
   "title_sidebar": "Contents",
   "toc_cell": false,
   "toc_position": {},
   "toc_section_display": true,
   "toc_window_display": false
  }
 },
 "nbformat": 4,
 "nbformat_minor": 4
}
