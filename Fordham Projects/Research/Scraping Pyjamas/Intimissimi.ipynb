{
 "cells": [
  {
   "cell_type": "code",
   "execution_count": 1,
   "metadata": {
    "ExecuteTime": {
     "end_time": "2020-11-07T01:59:12.660339Z",
     "start_time": "2020-11-07T01:59:11.315034Z"
    }
   },
   "outputs": [],
   "source": [
    "import requests\n",
    "import pandas as pd\n",
    "from bs4 import BeautifulSoup"
   ]
  },
  {
   "cell_type": "code",
   "execution_count": 2,
   "metadata": {
    "ExecuteTime": {
     "end_time": "2020-11-02T20:39:56.280081Z",
     "start_time": "2020-11-02T20:39:52.564647Z"
    }
   },
   "outputs": [],
   "source": [
    "url = 'https://www.intimissimi.com/fr/femme/nuit/'\n",
    "html = requests.get(url).text\n",
    "soup = BeautifulSoup(html)"
   ]
  },
  {
   "cell_type": "code",
   "execution_count": 2,
   "metadata": {
    "ExecuteTime": {
     "end_time": "2020-11-02T23:26:26.763069Z",
     "start_time": "2020-11-02T23:26:26.750103Z"
    }
   },
   "outputs": [],
   "source": [
    "def parse_one_page(html):\n",
    "    soup = BeautifulSoup(html)\n",
    "    base_url = 'www.intimissimi.com'\n",
    "    info = len(soup.find_all('div', {'class': 'pdp-link'}))\n",
    "    for i in range(info):\n",
    "        brand.append('Intimissimi')\n",
    "        item.append(soup.find_all('div', {'class': 'pdp-link'})[i].span.text)\n",
    "        price.append(soup.find_all('span', {'class': 'value dark'})[i].text.strip())\n",
    "        img_url.append(soup.find_all('div', {'class': 'image-container'})[i].img.get('src'))\n",
    "        product_url.append(base_url + \\\n",
    "                          soup.find_all('a', {'class': 'product-tile js-pdp-link no-hover'})[i].get('href'))\n"
   ]
  },
  {
   "cell_type": "code",
   "execution_count": 3,
   "metadata": {
    "ExecuteTime": {
     "end_time": "2020-11-02T23:27:33.390780Z",
     "start_time": "2020-11-02T23:26:28.888573Z"
    }
   },
   "outputs": [],
   "source": [
    "brand = []\n",
    "item = []\n",
    "price = []\n",
    "img_url = []\n",
    "product_url = []\n",
    "\n",
    "for i in range(9):\n",
    "    url = 'https://www.intimissimi.com/fr/femme/nuit/' + '?start=' + str(i*24) + '&sz=24'\n",
    "    html = requests.get(url).text\n",
    "    parse_one_page(html)"
   ]
  },
  {
   "cell_type": "code",
   "execution_count": 28,
   "metadata": {
    "ExecuteTime": {
     "end_time": "2020-11-02T21:04:06.331111Z",
     "start_time": "2020-11-02T21:04:06.269277Z"
    }
   },
   "outputs": [
    {
     "data": {
      "text/plain": [
       "'https://www.intimissimi.com/dw/image/v2/BCXQ_PRD/on/demandware.static/-/Sites-INT_EC_COM/default/dw7957b76a/images/CLD700_wear_031_M.jpg?sw=400&sfrm=png'"
      ]
     },
     "execution_count": 28,
     "metadata": {},
     "output_type": "execute_result"
    }
   ],
   "source": [
    "soup.find_all('div', {'class': 'image-container'})[2].img.get('src')"
   ]
  },
  {
   "cell_type": "code",
   "execution_count": 6,
   "metadata": {
    "ExecuteTime": {
     "end_time": "2020-11-02T23:30:45.397174Z",
     "start_time": "2020-11-02T23:30:45.357283Z"
    }
   },
   "outputs": [
    {
     "data": {
      "text/html": [
       "<div>\n",
       "<style scoped>\n",
       "    .dataframe tbody tr th:only-of-type {\n",
       "        vertical-align: middle;\n",
       "    }\n",
       "\n",
       "    .dataframe tbody tr th {\n",
       "        vertical-align: top;\n",
       "    }\n",
       "\n",
       "    .dataframe thead th {\n",
       "        text-align: right;\n",
       "    }\n",
       "</style>\n",
       "<table border=\"1\" class=\"dataframe\">\n",
       "  <thead>\n",
       "    <tr style=\"text-align: right;\">\n",
       "      <th></th>\n",
       "      <th>brand</th>\n",
       "      <th>item</th>\n",
       "      <th>price</th>\n",
       "      <th>image_url</th>\n",
       "      <th>product_url</th>\n",
       "    </tr>\n",
       "  </thead>\n",
       "  <tbody>\n",
       "    <tr>\n",
       "      <th>0</th>\n",
       "      <td>Intimissimi</td>\n",
       "      <td>Pantalon en Micromodal</td>\n",
       "      <td>25.90 €</td>\n",
       "      <td>https://www.intimissimi.com/dw/image/v2/BCXQ_P...</td>\n",
       "      <td>www.intimissimi.com/fr/product/pantalon_en_mic...</td>\n",
       "    </tr>\n",
       "    <tr>\n",
       "      <th>1</th>\n",
       "      <td>Intimissimi</td>\n",
       "      <td>Top en Modal et Cachemire avec Dentelle</td>\n",
       "      <td>29.90 €</td>\n",
       "      <td>https://www.intimissimi.com/dw/image/v2/BCXQ_P...</td>\n",
       "      <td>www.intimissimi.com/fr/product/top_en_modal_et...</td>\n",
       "    </tr>\n",
       "    <tr>\n",
       "      <th>2</th>\n",
       "      <td>Intimissimi</td>\n",
       "      <td>T-Shirt à Manches Longues en Modal avec Col Rond</td>\n",
       "      <td>25.90 €</td>\n",
       "      <td>https://www.intimissimi.com/dw/image/v2/BCXQ_P...</td>\n",
       "      <td>www.intimissimi.com/fr/product/t-shirt_a_manch...</td>\n",
       "    </tr>\n",
       "    <tr>\n",
       "      <th>3</th>\n",
       "      <td>Intimissimi</td>\n",
       "      <td>Pull Manches Longues en Modal/Soie Silk Touch</td>\n",
       "      <td>39.90 €</td>\n",
       "      <td>https://www.intimissimi.com/dw/image/v2/BCXQ_P...</td>\n",
       "      <td>www.intimissimi.com/fr/product/pull_manches_lo...</td>\n",
       "    </tr>\n",
       "    <tr>\n",
       "      <th>4</th>\n",
       "      <td>Intimissimi</td>\n",
       "      <td>Pantalon en Modal Flirty Nudes</td>\n",
       "      <td>25.90 €</td>\n",
       "      <td>https://www.intimissimi.com/dw/image/v2/BCXQ_P...</td>\n",
       "      <td>www.intimissimi.com/fr/product/pantalon_en_mod...</td>\n",
       "    </tr>\n",
       "    <tr>\n",
       "      <th>...</th>\n",
       "      <td>...</td>\n",
       "      <td>...</td>\n",
       "      <td>...</td>\n",
       "      <td>...</td>\n",
       "      <td>...</td>\n",
       "    </tr>\n",
       "    <tr>\n",
       "      <th>208</th>\n",
       "      <td>Intimissimi</td>\n",
       "      <td>Short en Soie et Dentelle</td>\n",
       "      <td>25.90 €</td>\n",
       "      <td>https://www.intimissimi.com/dw/image/v2/BCXQ_P...</td>\n",
       "      <td>www.intimissimi.com/fr/product/short_en_soie_e...</td>\n",
       "    </tr>\n",
       "    <tr>\n",
       "      <th>209</th>\n",
       "      <td>Intimissimi</td>\n",
       "      <td>Short en Soie avec Taille en Contraste</td>\n",
       "      <td>25.90 €</td>\n",
       "      <td>https://www.intimissimi.com/dw/image/v2/BCXQ_P...</td>\n",
       "      <td>www.intimissimi.com/fr/product/short_en_soie_a...</td>\n",
       "    </tr>\n",
       "    <tr>\n",
       "      <th>210</th>\n",
       "      <td>Intimissimi</td>\n",
       "      <td>Top Soie et Dentelle</td>\n",
       "      <td>39.90 €</td>\n",
       "      <td>https://www.intimissimi.com/dw/image/v2/BCXQ_P...</td>\n",
       "      <td>www.intimissimi.com/fr/product/top_soie_et_den...</td>\n",
       "    </tr>\n",
       "    <tr>\n",
       "      <th>211</th>\n",
       "      <td>Intimissimi</td>\n",
       "      <td>Top Soie et Dentelle</td>\n",
       "      <td>39.90 €</td>\n",
       "      <td>https://www.intimissimi.com/dw/image/v2/BCXQ_P...</td>\n",
       "      <td>www.intimissimi.com/fr/product/top_soie_et_den...</td>\n",
       "    </tr>\n",
       "    <tr>\n",
       "      <th>212</th>\n",
       "      <td>Intimissimi</td>\n",
       "      <td></td>\n",
       "      <td>39.90 €</td>\n",
       "      <td>https://www.intimissimi.com/dw/image/v2/BCXQ_P...</td>\n",
       "      <td>www.intimissimi.com/fr/product-LTD00C.html?dwv...</td>\n",
       "    </tr>\n",
       "  </tbody>\n",
       "</table>\n",
       "<p>213 rows × 5 columns</p>\n",
       "</div>"
      ],
      "text/plain": [
       "           brand                                              item    price  \\\n",
       "0    Intimissimi                            Pantalon en Micromodal  25.90 €   \n",
       "1    Intimissimi           Top en Modal et Cachemire avec Dentelle  29.90 €   \n",
       "2    Intimissimi  T-Shirt à Manches Longues en Modal avec Col Rond  25.90 €   \n",
       "3    Intimissimi     Pull Manches Longues en Modal/Soie Silk Touch  39.90 €   \n",
       "4    Intimissimi                    Pantalon en Modal Flirty Nudes  25.90 €   \n",
       "..           ...                                               ...      ...   \n",
       "208  Intimissimi                         Short en Soie et Dentelle  25.90 €   \n",
       "209  Intimissimi            Short en Soie avec Taille en Contraste  25.90 €   \n",
       "210  Intimissimi                              Top Soie et Dentelle  39.90 €   \n",
       "211  Intimissimi                              Top Soie et Dentelle  39.90 €   \n",
       "212  Intimissimi                                                    39.90 €   \n",
       "\n",
       "                                             image_url  \\\n",
       "0    https://www.intimissimi.com/dw/image/v2/BCXQ_P...   \n",
       "1    https://www.intimissimi.com/dw/image/v2/BCXQ_P...   \n",
       "2    https://www.intimissimi.com/dw/image/v2/BCXQ_P...   \n",
       "3    https://www.intimissimi.com/dw/image/v2/BCXQ_P...   \n",
       "4    https://www.intimissimi.com/dw/image/v2/BCXQ_P...   \n",
       "..                                                 ...   \n",
       "208  https://www.intimissimi.com/dw/image/v2/BCXQ_P...   \n",
       "209  https://www.intimissimi.com/dw/image/v2/BCXQ_P...   \n",
       "210  https://www.intimissimi.com/dw/image/v2/BCXQ_P...   \n",
       "211  https://www.intimissimi.com/dw/image/v2/BCXQ_P...   \n",
       "212  https://www.intimissimi.com/dw/image/v2/BCXQ_P...   \n",
       "\n",
       "                                           product_url  \n",
       "0    www.intimissimi.com/fr/product/pantalon_en_mic...  \n",
       "1    www.intimissimi.com/fr/product/top_en_modal_et...  \n",
       "2    www.intimissimi.com/fr/product/t-shirt_a_manch...  \n",
       "3    www.intimissimi.com/fr/product/pull_manches_lo...  \n",
       "4    www.intimissimi.com/fr/product/pantalon_en_mod...  \n",
       "..                                                 ...  \n",
       "208  www.intimissimi.com/fr/product/short_en_soie_e...  \n",
       "209  www.intimissimi.com/fr/product/short_en_soie_a...  \n",
       "210  www.intimissimi.com/fr/product/top_soie_et_den...  \n",
       "211  www.intimissimi.com/fr/product/top_soie_et_den...  \n",
       "212  www.intimissimi.com/fr/product-LTD00C.html?dwv...  \n",
       "\n",
       "[213 rows x 5 columns]"
      ]
     },
     "execution_count": 6,
     "metadata": {},
     "output_type": "execute_result"
    }
   ],
   "source": [
    "pd.DataFrame(list(zip(brand, item, price, img_url, product_url)), \n",
    "            columns = ['brand', 'item', 'price', 'image_url', 'product_url']).\\\n",
    "            drop_duplicates(keep=False).reset_index(drop=True).\\\n",
    "            to_csv('Intimissimi.csv',index=False, encoding='utf-8-sig')   "
   ]
  },
  {
   "cell_type": "code",
   "execution_count": null,
   "metadata": {
    "ExecuteTime": {
     "end_time": "2020-11-02T21:10:35.814278Z",
     "start_time": "2020-11-02T21:10:35.802309Z"
    }
   },
   "outputs": [],
   "source": [
    "#soup.find_all('div', {''})"
   ]
  },
  {
   "cell_type": "code",
   "execution_count": 2,
   "metadata": {
    "ExecuteTime": {
     "end_time": "2020-11-07T01:59:34.679779Z",
     "start_time": "2020-11-07T01:59:34.644820Z"
    }
   },
   "outputs": [],
   "source": [
    "df = pd.read_csv('Intimissimi.csv')"
   ]
  },
  {
   "cell_type": "code",
   "execution_count": 4,
   "metadata": {
    "ExecuteTime": {
     "end_time": "2020-11-07T02:01:44.535578Z",
     "start_time": "2020-11-07T02:01:13.923169Z"
    }
   },
   "outputs": [],
   "source": [
    "counter = 0\n",
    "\n",
    "for i in df.image_url:\n",
    "    with open(\"Intimissimi\" + str(counter) + \".png\", \"wb\") as f:\n",
    "        r = requests.get(i)\n",
    "        f.write(r.content)\n",
    "    counter += 1"
   ]
  },
  {
   "cell_type": "code",
   "execution_count": null,
   "metadata": {
    "ExecuteTime": {
     "end_time": "2020-11-07T02:00:58.866149Z",
     "start_time": "2020-11-07T02:00:58.838222Z"
    }
   },
   "outputs": [],
   "source": []
  },
  {
   "cell_type": "code",
   "execution_count": null,
   "metadata": {},
   "outputs": [],
   "source": []
  },
  {
   "cell_type": "code",
   "execution_count": null,
   "metadata": {},
   "outputs": [],
   "source": []
  }
 ],
 "metadata": {
  "kernelspec": {
   "display_name": "Python 3",
   "language": "python",
   "name": "python3"
  },
  "language_info": {
   "codemirror_mode": {
    "name": "ipython",
    "version": 3
   },
   "file_extension": ".py",
   "mimetype": "text/x-python",
   "name": "python",
   "nbconvert_exporter": "python",
   "pygments_lexer": "ipython3",
   "version": "3.6.10"
  },
  "toc": {
   "base_numbering": 1,
   "nav_menu": {},
   "number_sections": true,
   "sideBar": true,
   "skip_h1_title": false,
   "title_cell": "Table of Contents",
   "title_sidebar": "Contents",
   "toc_cell": false,
   "toc_position": {},
   "toc_section_display": true,
   "toc_window_display": false
  }
 },
 "nbformat": 4,
 "nbformat_minor": 4
}
