{
 "cells": [
  {
   "cell_type": "code",
   "execution_count": 11,
   "metadata": {
    "ExecuteTime": {
     "end_time": "2020-11-05T15:48:51.088493Z",
     "start_time": "2020-11-05T15:48:47.491020Z"
    }
   },
   "outputs": [],
   "source": [
    "import requests\n",
    "import pandas as pd\n",
    "from bs4 import BeautifulSoup\n",
    "import time"
   ]
  },
  {
   "cell_type": "code",
   "execution_count": 103,
   "metadata": {
    "ExecuteTime": {
     "end_time": "2020-11-08T19:54:45.641482Z",
     "start_time": "2020-11-08T19:54:45.621533Z"
    }
   },
   "outputs": [],
   "source": [
    "def parse_one_page(html, a):\n",
    "    soup = BeautifulSoup(html)\n",
    "    info = len(soup.find_all('div', {'class': 'product-name'}))\n",
    "    for i in range(info):\n",
    "        brand.append(soup.find_all('div', {'class': 'product-name'})[i].a.text.strip())\n",
    "        item.append(soup.find_all('a', {'class': 'short-description-link'})[i].text.strip())\n",
    "        if a == 0:\n",
    "            if i != 0:\n",
    "                price.append(soup.find_all('div', {'class': 'product-pricing initial-pricing'})[i-1].span.text)\n",
    "            else:\n",
    "                price.append(None)\n",
    "        else:\n",
    "            price.append(soup.find_all('div', {'class': 'product-pricing initial-pricing'})[i].span.text)\n",
    "        img_url.append(soup.find_all('div', {'class': 'product-image-overlay-img'})[i].img.get('src'))\n",
    "        product_url.append(soup.find_all('div', {'class': 'product-name'})[i].a.get('href'))\n",
    "    del soup"
   ]
  },
  {
   "cell_type": "code",
   "execution_count": 70,
   "metadata": {
    "ExecuteTime": {
     "end_time": "2020-11-08T19:40:33.638051Z",
     "start_time": "2020-11-08T19:40:33.601176Z"
    }
   },
   "outputs": [],
   "source": [
    "from selenium import webdriver"
   ]
  },
  {
   "cell_type": "code",
   "execution_count": 71,
   "metadata": {
    "ExecuteTime": {
     "end_time": "2020-11-08T19:40:38.851373Z",
     "start_time": "2020-11-08T19:40:35.401521Z"
    }
   },
   "outputs": [],
   "source": [
    "driver = webdriver.Chrome()"
   ]
  },
  {
   "cell_type": "code",
   "execution_count": 106,
   "metadata": {
    "ExecuteTime": {
     "end_time": "2020-11-08T19:55:00.888151Z",
     "start_time": "2020-11-08T19:55:00.881169Z"
    }
   },
   "outputs": [],
   "source": [
    "brand = []\n",
    "item = []\n",
    "price = []\n",
    "img_url = []\n",
    "product_url = []"
   ]
  },
  {
   "cell_type": "code",
   "execution_count": 107,
   "metadata": {
    "ExecuteTime": {
     "end_time": "2020-11-08T19:55:09.330861Z",
     "start_time": "2020-11-08T19:55:03.189390Z"
    }
   },
   "outputs": [],
   "source": [
    "for i in range(5):\n",
    "    url = 'https://www.princessetamtam.com/fr/pyjama-femme#start=' + str(i*24) + '&sz=24'\n",
    "    driver.get(url)\n",
    "    time.sleep(2)\n",
    "    parse_one_page(driver.page_source, i)"
   ]
  },
  {
   "cell_type": "code",
   "execution_count": 111,
   "metadata": {
    "ExecuteTime": {
     "end_time": "2020-11-08T19:55:46.569646Z",
     "start_time": "2020-11-08T19:55:41.621108Z"
    }
   },
   "outputs": [],
   "source": [
    "driver.get('https://www.princessetamtam.com/fr/pyjama-femme#start=96&sz=24')\n",
    "time.sleep(2)\n",
    "html = driver.page_source\n",
    "parse_one_page(html, 4)\n",
    "del html\n"
   ]
  },
  {
   "cell_type": "code",
   "execution_count": 115,
   "metadata": {
    "ExecuteTime": {
     "end_time": "2020-11-08T19:58:08.883021Z",
     "start_time": "2020-11-08T19:58:08.511933Z"
    }
   },
   "outputs": [],
   "source": [
    "driver.close()"
   ]
  },
  {
   "cell_type": "code",
   "execution_count": 112,
   "metadata": {
    "ExecuteTime": {
     "end_time": "2020-11-08T19:55:50.447237Z",
     "start_time": "2020-11-08T19:55:50.432259Z"
    }
   },
   "outputs": [],
   "source": [
    "pd.DataFrame(list(zip(brand, item, price, img_url, product_url)), \n",
    "            columns = ['brand', 'item', 'price', 'image_url', 'product_url']).\\\n",
    "            to_csv('princessetamtam.csv',index=False, encoding='utf-8-sig') "
   ]
  },
  {
   "cell_type": "code",
   "execution_count": 114,
   "metadata": {
    "ExecuteTime": {
     "end_time": "2020-11-08T19:57:14.517556Z",
     "start_time": "2020-11-08T19:56:46.801573Z"
    }
   },
   "outputs": [],
   "source": [
    "counter = 1\n",
    "for i in img_url[1:]:\n",
    "    with open(\"Princessetamtam\" + str(counter) + \".jpg\", \"wb\") as f:\n",
    "        r = requests.get(i)\n",
    "        f.write(r.content)\n",
    "    counter += 1"
   ]
  },
  {
   "cell_type": "code",
   "execution_count": null,
   "metadata": {
    "ExecuteTime": {
     "end_time": "2020-11-08T19:55:58.941904Z",
     "start_time": "2020-11-08T19:55:58.928936Z"
    }
   },
   "outputs": [],
   "source": []
  }
 ],
 "metadata": {
  "kernelspec": {
   "display_name": "Python 3",
   "language": "python",
   "name": "python3"
  },
  "language_info": {
   "codemirror_mode": {
    "name": "ipython",
    "version": 3
   },
   "file_extension": ".py",
   "mimetype": "text/x-python",
   "name": "python",
   "nbconvert_exporter": "python",
   "pygments_lexer": "ipython3",
   "version": "3.6.10"
  },
  "toc": {
   "base_numbering": 1,
   "nav_menu": {},
   "number_sections": true,
   "sideBar": true,
   "skip_h1_title": false,
   "title_cell": "Table of Contents",
   "title_sidebar": "Contents",
   "toc_cell": false,
   "toc_position": {},
   "toc_section_display": true,
   "toc_window_display": false
  }
 },
 "nbformat": 4,
 "nbformat_minor": 4
}
