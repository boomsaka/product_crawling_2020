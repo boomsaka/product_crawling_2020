{
 "cells": [
  {
   "cell_type": "code",
   "execution_count": 1,
   "metadata": {
    "ExecuteTime": {
     "end_time": "2020-11-02T00:21:57.804574Z",
     "start_time": "2020-11-02T00:21:56.355658Z"
    }
   },
   "outputs": [],
   "source": [
    "import requests\n",
    "import pandas as pd\n",
    "from bs4 import BeautifulSoup"
   ]
  },
  {
   "cell_type": "code",
   "execution_count": 41,
   "metadata": {
    "ExecuteTime": {
     "end_time": "2020-11-02T01:42:49.065307Z",
     "start_time": "2020-11-02T01:42:48.270583Z"
    }
   },
   "outputs": [],
   "source": [
    "headers = {\n",
    "    'User-Agent': 'Mozilla/5.0'\n",
    "}\n",
    "html = requests.get('https://www.cosstores.com/en_usd/women/leisurewear.html', headers=headers).text\n",
    "soup = BeautifulSoup(html)"
   ]
  },
  {
   "cell_type": "code",
   "execution_count": 11,
   "metadata": {
    "ExecuteTime": {
     "end_time": "2020-11-02T01:02:02.431327Z",
     "start_time": "2020-11-02T01:02:02.362889Z"
    }
   },
   "outputs": [
    {
     "data": {
      "text/plain": [
       "<div class=\"m-product-image\">\n",
       "<div class=\"cross\"></div>\n",
       "<div class=\"placeholder-wrapper\">\n",
       "<img class=\"a-image Resolve is-hidden default-image\" data-resolvechain=\"set=source[/c4/a0/c4a022e9b090c8f1364a3960e7795db2b244235f.jpg],origin[dam],type[DESCRIPTIVESTILLLIFE],ImageVersion[1]&amp;call=url[file:/product/dynamic.chain]\" data-resolveheight=\"3\" data-resolvewidth=\"2\" src=\"//lp.cosstores.com/app001prod?blank=width[2],height[3],color[none]&amp;sink=format[gif]\"/>\n",
       "<img alt=\"Lookbook Front Image of Cos RELAXED COTTON TOP in White\" class=\"a-image Resolve is-hidden hover-image\" data-resolvechain=\"set=source[/8d/f4/8df498613d631b5d09bdde4216b1092f16e4d0a4.jpg],origin[dam],type[LOOKBOOK],ImageVersion[1]&amp;call=url[file:/product/dynamic.chain]\" data-resolveheight=\"3\" data-resolvewidth=\"2\" src=\"//lp.cosstores.com/app001prod?blank=width[2],height[3],color[none]&amp;sink=format[gif]\"/>\n",
       "</div>\n",
       "</div>"
      ]
     },
     "execution_count": 11,
     "metadata": {},
     "output_type": "execute_result"
    }
   ],
   "source": [
    "brand = []\n",
    "item = []\n",
    "price = []\n",
    "img_url = []\n",
    "product_url = []\n",
    "\n",
    "for i in range(40):\n",
    "    brand.append('COS')\n",
    "    item.append(soup.find_all('h2', {'class': 'a-heading-2 product-title'})[i].text)\n",
    "    price.append(soup.find_all('div', {'class': 'm-product-price'})[0].get_text().strip())\n",
    "    img_url.append('')\n",
    "    product_url.append(soup.find_all('div', {'class': 'description'})[0].find('a').get('href'))\n"
   ]
  },
  {
   "cell_type": "code",
   "execution_count": 25,
   "metadata": {
    "ExecuteTime": {
     "end_time": "2020-11-02T01:30:05.490121Z",
     "start_time": "2020-11-02T01:30:05.431266Z"
    }
   },
   "outputs": [
    {
     "data": {
      "text/plain": [
       "'RECYCLED CASHMERE HOODIE WITH CARDIGAN PANEL'"
      ]
     },
     "execution_count": 25,
     "metadata": {},
     "output_type": "execute_result"
    }
   ],
   "source": [
    "soup.find_all('h2', {'class': 'a-heading-2 product-title'})[0].get_text()"
   ]
  },
  {
   "cell_type": "code",
   "execution_count": 44,
   "metadata": {
    "ExecuteTime": {
     "end_time": "2020-11-02T01:43:38.678151Z",
     "start_time": "2020-11-02T01:43:38.612326Z"
    }
   },
   "outputs": [
    {
     "data": {
      "text/plain": [
       "<div class=\"m-product-image\">\n",
       "<div class=\"cross\"></div>\n",
       "<div class=\"placeholder-wrapper\">\n",
       "<img class=\"a-image Resolve is-hidden default-image\" data-resolvechain=\"set=source[/ca/b3/cab389db61b930dabfd63605f8d215fb2fbccb54.jpg],origin[dam],type[DESCRIPTIVESTILLLIFE],ImageVersion[1]&amp;call=url[file:/product/dynamic.chain]\" data-resolveheight=\"3\" data-resolvewidth=\"2\" src=\"//lp.cosstores.com/app001prod?blank=width[2],height[3],color[none]&amp;sink=format[gif]\"/>\n",
       "<img class=\"a-image Resolve is-hidden hover-image\" data-resolvechain=\"set=source[/63/7e/637e421bf6523d2bf712c4ebdfb08b55b475e322.jpg],origin[dam],type[LOOKBOOK],ImageVersion[1]&amp;call=url[file:/product/dynamic.chain]\" data-resolveheight=\"3\" data-resolvewidth=\"2\" src=\"//lp.cosstores.com/app001prod?blank=width[2],height[3],color[none]&amp;sink=format[gif]\"/>\n",
       "</div>\n",
       "</div>"
      ]
     },
     "execution_count": 44,
     "metadata": {},
     "output_type": "execute_result"
    }
   ],
   "source": [
    "soup.find_all('div', {'class': 'm-product-image'})[4]"
   ]
  },
  {
   "cell_type": "code",
   "execution_count": 21,
   "metadata": {
    "ExecuteTime": {
     "end_time": "2020-11-02T01:18:36.401644Z",
     "start_time": "2020-11-02T01:18:36.338813Z"
    }
   },
   "outputs": [
    {
     "data": {
      "text/plain": [
       "'https://www.cosstores.com/en_usd/women/womenswear/knitwear/product.recycled-cashmere-hoodie-with-cardigan-panel-grey.0919260003.html'"
      ]
     },
     "execution_count": 21,
     "metadata": {},
     "output_type": "execute_result"
    }
   ],
   "source": [
    "soup.find_all('div', {'class': 'description'})[0].find('a').get('href')"
   ]
  },
  {
   "cell_type": "code",
   "execution_count": 52,
   "metadata": {
    "ExecuteTime": {
     "end_time": "2020-11-02T03:55:44.299082Z",
     "start_time": "2020-11-02T03:55:44.291104Z"
    }
   },
   "outputs": [],
   "source": [
    "#soup.find_all('div', {'class' : 'image-if-hover'})[0]"
   ]
  },
  {
   "cell_type": "code",
   "execution_count": 4,
   "metadata": {
    "ExecuteTime": {
     "end_time": "2020-11-24T00:20:27.718871Z",
     "start_time": "2020-11-24T00:20:27.711890Z"
    }
   },
   "outputs": [],
   "source": [
    "from selenium import webdriver\n",
    "import time"
   ]
  },
  {
   "cell_type": "code",
   "execution_count": null,
   "metadata": {},
   "outputs": [],
   "source": [
    "driver = webdriver.Chrome()"
   ]
  },
  {
   "cell_type": "code",
   "execution_count": 9,
   "metadata": {
    "ExecuteTime": {
     "end_time": "2020-11-24T00:22:55.198406Z",
     "start_time": "2020-11-24T00:22:31.523665Z"
    }
   },
   "outputs": [],
   "source": [
    "driver.get('https://www.cosstores.com/en_usd/women/leisurewear.html')\n",
    "for i in range(40):\n",
    "    driver.execute_script('window.scrollBy(0, 500)')\n",
    "    time.sleep(0.5)\n",
    "page_source = driver.page_source"
   ]
  },
  {
   "cell_type": "code",
   "execution_count": 39,
   "metadata": {
    "ExecuteTime": {
     "end_time": "2020-11-02T01:38:54.324022Z",
     "start_time": "2020-11-02T01:38:54.155944Z"
    }
   },
   "outputs": [],
   "source": [
    "soup1 = BeautifulSoup(page_source)"
   ]
  },
  {
   "cell_type": "code",
   "execution_count": 40,
   "metadata": {
    "ExecuteTime": {
     "end_time": "2020-11-02T01:39:06.139861Z",
     "start_time": "2020-11-02T01:39:06.056084Z"
    }
   },
   "outputs": [
    {
     "data": {
      "text/plain": [
       "<div class=\"m-product-image\">\n",
       "<div class=\"cross\"></div>\n",
       "<div class=\"placeholder-wrapper\">\n",
       "<img class=\"a-image Resolve is-hidden default-image\" data-resolvechain=\"set=source[/c4/a0/c4a022e9b090c8f1364a3960e7795db2b244235f.jpg],origin[dam],type[DESCRIPTIVESTILLLIFE],ImageVersion[1]&amp;call=url[file:/product/dynamic.chain]\" data-resolveheight=\"3\" data-resolvewidth=\"2\" src=\"//lp.cosstores.com/app001prod?blank=width[2],height[3],color[none]&amp;sink=format[gif]\"/>\n",
       "<img alt=\"Lookbook Front Image of Cos RELAXED COTTON TOP in White\" class=\"a-image Resolve is-hidden hover-image\" data-resolvechain=\"set=source[/8d/f4/8df498613d631b5d09bdde4216b1092f16e4d0a4.jpg],origin[dam],type[LOOKBOOK],ImageVersion[1]&amp;call=url[file:/product/dynamic.chain]\" data-resolveheight=\"3\" data-resolvewidth=\"2\" src=\"//lp.cosstores.com/app001prod?blank=width[2],height[3],color[none]&amp;sink=format[gif]\"/>\n",
       "</div>\n",
       "</div>"
      ]
     },
     "execution_count": 40,
     "metadata": {},
     "output_type": "execute_result"
    }
   ],
   "source": [
    "soup1.find_all('div', {'class': 'm-product-image'})[2]"
   ]
  },
  {
   "cell_type": "code",
   "execution_count": null,
   "metadata": {},
   "outputs": [],
   "source": []
  },
  {
   "cell_type": "code",
   "execution_count": null,
   "metadata": {},
   "outputs": [],
   "source": []
  },
  {
   "cell_type": "code",
   "execution_count": null,
   "metadata": {},
   "outputs": [],
   "source": []
  }
 ],
 "metadata": {
  "kernelspec": {
   "display_name": "Python 3",
   "language": "python",
   "name": "python3"
  },
  "language_info": {
   "codemirror_mode": {
    "name": "ipython",
    "version": 3
   },
   "file_extension": ".py",
   "mimetype": "text/x-python",
   "name": "python",
   "nbconvert_exporter": "python",
   "pygments_lexer": "ipython3",
   "version": "3.6.10"
  },
  "toc": {
   "base_numbering": 1,
   "nav_menu": {},
   "number_sections": true,
   "sideBar": true,
   "skip_h1_title": false,
   "title_cell": "Table of Contents",
   "title_sidebar": "Contents",
   "toc_cell": false,
   "toc_position": {},
   "toc_section_display": true,
   "toc_window_display": false
  }
 },
 "nbformat": 4,
 "nbformat_minor": 4
}
