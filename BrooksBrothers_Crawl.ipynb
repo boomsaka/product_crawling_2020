{
 "cells": [
  {
   "cell_type": "markdown",
   "metadata": {},
   "source": [
    "# Crawling"
   ]
  },
  {
   "cell_type": "code",
   "execution_count": null,
   "metadata": {},
   "outputs": [],
   "source": [
    "import pandas as pd\n",
    "from bs4 import BeautifulSoup\n",
    "import urllib.request\n",
    "from urllib.request import Request, urlopen\n",
    "# https://github.com/maddyhyc/Web-Scraping-Yelp-Restaurant/blob/master/Web%20Scraping%20Yelp%20Restaurant.ipynb"
   ]
  },
  {
   "cell_type": "code",
   "execution_count": null,
   "metadata": {},
   "outputs": [],
   "source": [
    "url_1 = 'https://www.brooksbrothers.com/womens/sleepwear/0376,default,sc.html?lid=topnav-menu'\n",
    "url_2 = 'https://www.brooksbrothers.com/mens/sleepwear/0227,default,sc.html?lid=topnav-menu'\n",
    "url_3 = 'https://www.brooksbrothers.com/mens/sleepwear/0227,default,sc.html?start=24&sz=24'\n",
    "url_list = (url_1, url_2, url_3)"
   ]
  },
  {
   "cell_type": "code",
   "execution_count": null,
   "metadata": {},
   "outputs": [],
   "source": [
    "# Create an empty list to store info\n",
    "Brand = []\n",
    "Product = []\n",
    "Original_Price = []\n",
    "Current_Price = []\n",
    "Image_Url = []\n",
    "Product_Url = []"
   ]
  },
  {
   "cell_type": "code",
   "execution_count": null,
   "metadata": {},
   "outputs": [],
   "source": [
    "for j in range(len(url_list)):\n",
    "    url = url_list[j]\n",
    "#     ourUrl = urllib.request.urlopen(url)\n",
    "#   If there is HTTP Error 403: Forbidden, use code below instead.\n",
    "    req = Request(url, headers={'User-Agent': 'Mozilla/5.0'})\n",
    "    ourUrl = urlopen(req).read()\n",
    "    soup = BeautifulSoup(ourUrl,'html.parser')\n",
    "    # print(soup.prettify)\n",
    "    \n",
    "    # crawl Brand name and Product name\n",
    "    for i in soup.find_all('div',{'class':'product-name'}):\n",
    "        per_ID=i.find('span')\n",
    "        Brand.append('Brooks Brothers')\n",
    "        a = per_ID.text.replace('\\n', ' ').replace('\\r', '')\n",
    "        Product.append(' '.join(a.split())) # Product\n",
    "    \n",
    "    # crawl Original Price and Current Price\n",
    "    for i in soup.find_all('div',{'class':'product-pricing'}):\n",
    "        currency = i.find('span',class_='price-currency price-first-letter ').text\n",
    "        price = i.find_all('span',class_='price-value')\n",
    "        ori_price = currency + price[0].text\n",
    "        cur_price = currency + price[-1].text\n",
    "        Original_Price.append(ori_price)\n",
    "        Current_Price.append(cur_price)\n",
    "    \n",
    "    # crawl Image Url and Product Url\n",
    "    for i in soup.find_all('div',{'class':'product-tile no-padding '}):\n",
    "        product_url = \"http://brooksbrothers.com\" + i.find('a').get('href')\n",
    "        image_url = i.find('img').get('src')\n",
    "    #     print(image_url)\n",
    "    #     print(product_url)\n",
    "        Image_Url.append(image_url)\n",
    "        Product_Url.append(product_url)\n",
    "    \n",
    "# Product_Url\n",
    "# Image_Url"
   ]
  },
  {
   "cell_type": "code",
   "execution_count": null,
   "metadata": {},
   "outputs": [],
   "source": [
    "data = {'Brand':Brand,\n",
    "       'Product':Product,\n",
    "       'Original Price':Original_Price,\n",
    "       'Current Price':Current_Price,\n",
    "       'Image url':Image_Url,\n",
    "       'Product url':Product_Url}"
   ]
  },
  {
   "cell_type": "code",
   "execution_count": null,
   "metadata": {},
   "outputs": [],
   "source": [
    "Pajama = pd.DataFrame(data,columns = ['Brand','Product','Original Price','Current Price','Image url','Product url'])   \n",
    "Pajama"
   ]
  },
  {
   "cell_type": "code",
   "execution_count": null,
   "metadata": {},
   "outputs": [],
   "source": [
    "Pajama.to_csv('PajamaBB_ML_11082020.csv', index=False)"
   ]
  },
  {
   "cell_type": "code",
   "execution_count": null,
   "metadata": {},
   "outputs": [],
   "source": [
    "import os\n",
    "import requests\n",
    "import time\n",
    "def get_img(ori_file, sup):\n",
    "    df = pd.read_csv(ori_file,encoding=\"utf-8\")\n",
    "    os.mkdir(sup+\"_images\")\n",
    "    for n, url in df[\"Image url\"].iteritems():\n",
    "        download_img(url,\"./{}/\".format(sup+\"_images\")+url.split(\"/\")[-1].split(\"?\")[0] + '.jpg')\n",
    "        if n%5==0: time.sleep(1)\n",
    "def download_img(img_url, file_name):\n",
    "    resq = requests.get(img_url)\n",
    "    with open(file_name, \"wb\") as f:\n",
    "        f.write(resq.content)"
   ]
  },
  {
   "cell_type": "code",
   "execution_count": null,
   "metadata": {},
   "outputs": [],
   "source": [
    "ori_file = 'PajamaBB_ML_11082020'\n",
    "# sup = '/Users/lulinli/Desktop/Fordham_MSBA/Research/Yilu Zhou/Brooksbrothers'"
   ]
  },
  {
   "cell_type": "code",
   "execution_count": null,
   "metadata": {},
   "outputs": [],
   "source": [
    "get_img(ori_file+'.csv',ori_file)"
   ]
  }
 ],
 "metadata": {
  "kernelspec": {
   "display_name": "Python 3",
   "language": "python",
   "name": "python3"
  },
  "language_info": {
   "codemirror_mode": {
    "name": "ipython",
    "version": 3
   },
   "file_extension": ".py",
   "mimetype": "text/x-python",
   "name": "python",
   "nbconvert_exporter": "python",
   "pygments_lexer": "ipython3",
   "version": "3.7.1"
  }
 },
 "nbformat": 4,
 "nbformat_minor": 2
}
